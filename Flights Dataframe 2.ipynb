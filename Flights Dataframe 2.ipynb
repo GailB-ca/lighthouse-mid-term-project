{
 "cells": [
  {
   "cell_type": "markdown",
   "metadata": {},
   "source": [
    "### Load the Dataframe from the file"
   ]
  },
  {
   "cell_type": "code",
   "execution_count": 1,
   "metadata": {},
   "outputs": [],
   "source": [
    "import pickle\n",
    "\n",
    "filename = 'flight_2019'\n",
    "\n",
    "infile = open(filename,'rb')\n",
    "flight_2019 = pickle.load(infile)\n",
    "infile.close()"
   ]
  },
  {
   "cell_type": "markdown",
   "metadata": {},
   "source": [
    "#### New dataframe with a smaller sample of 500,000 records"
   ]
  },
  {
   "cell_type": "code",
   "execution_count": 2,
   "metadata": {},
   "outputs": [],
   "source": [
    "flight_sample = flight_2019.sample(n=1000000, random_state=1)"
   ]
  },
  {
   "cell_type": "code",
   "execution_count": 3,
   "metadata": {},
   "outputs": [
    {
     "data": {
      "text/plain": [
       "(1000000, 38)"
      ]
     },
     "execution_count": 3,
     "metadata": {},
     "output_type": "execute_result"
    }
   ],
   "source": [
    "flight_sample.shape"
   ]
  },
  {
   "cell_type": "markdown",
   "metadata": {},
   "source": [
    "### Determine Flight Type counts for departure time of day"
   ]
  },
  {
   "cell_type": "markdown",
   "metadata": {},
   "source": [
    "#### Create feature Flight Haul Type\n",
    "Short-haul flight < 3 hours  \n",
    "Medium-haul between 3-6 hours  \n",
    "Long-haul flight > 6 hours  "
   ]
  },
  {
   "cell_type": "code",
   "execution_count": 18,
   "metadata": {},
   "outputs": [
    {
     "name": "stdout",
     "output_type": "stream",
     "text": [
      "Actual Elapsed Time datatype float64\n",
      "True\n",
      "Flights with no elapsed time 21530\n",
      "0\n",
      "21530\n",
      "Flights Cancelled 19025.0\n",
      "Flights Diverted 2505.0\n"
     ]
    }
   ],
   "source": [
    "print(\"Actual Elapsed Time datatype\", flight_sample['actual_elapsed_time'].dtypes)\n",
    "print(flight_sample['actual_elapsed_time'].isnull().values.any())\n",
    "print(\"Flights with no elapsed time\", flight_sample['actual_elapsed_time'].isna().sum())\n",
    "print(flight_sample['crs_elapsed_time'].isna().sum())\n",
    "print(flight_sample['air_time'].isna().sum())\n",
    "print(\"Flights Cancelled\", flight_sample[flight_sample['cancelled'] == 1]['cancelled'].sum())\n",
    "print(\"Flights Diverted\", flight_sample[flight_sample['diverted'] == 1]['diverted'].sum())"
   ]
  },
  {
   "cell_type": "code",
   "execution_count": 33,
   "metadata": {},
   "outputs": [
    {
     "name": "stdout",
     "output_type": "stream",
     "text": [
      "False\n"
     ]
    }
   ],
   "source": [
    "\n",
    "# 0 - SHORT HAUL\n",
    "# 1 - MEDIUM HAUL\n",
    "# 2 - LONG HAUL\n",
    "flights_completed = flight_sample[(\n",
    "    (flight_sample['cancelled'] == 0) & (flight_sample['diverted'] == 0)\n",
    ")]\n",
    "\n",
    "print(flights_completed['actual_elapsed_time'].isnull().values.any())\n",
    "\n",
    "flight_sample['haul_type'] = flights_completed.apply(\n",
    "    lambda x: 0 if x['actual_elapsed_time'] <= 180.0 else (2 if x['actual_elapsed_time'] >= 360.0 else 1), axis=1\n",
    ")"
   ]
  },
  {
   "cell_type": "code",
   "execution_count": 34,
   "metadata": {},
   "outputs": [
    {
     "data": {
      "text/html": [
       "<div>\n",
       "<style scoped>\n",
       "    .dataframe tbody tr th:only-of-type {\n",
       "        vertical-align: middle;\n",
       "    }\n",
       "\n",
       "    .dataframe tbody tr th {\n",
       "        vertical-align: top;\n",
       "    }\n",
       "\n",
       "    .dataframe thead th {\n",
       "        text-align: right;\n",
       "    }\n",
       "</style>\n",
       "<table border=\"1\" class=\"dataframe\">\n",
       "  <thead>\n",
       "    <tr style=\"text-align: right;\">\n",
       "      <th></th>\n",
       "      <th>actual_elapsed_time</th>\n",
       "      <th>haul_type</th>\n",
       "    </tr>\n",
       "  </thead>\n",
       "  <tbody>\n",
       "    <tr>\n",
       "      <th>5817519</th>\n",
       "      <td>149.0</td>\n",
       "      <td>0.0</td>\n",
       "    </tr>\n",
       "    <tr>\n",
       "      <th>3440584</th>\n",
       "      <td>63.0</td>\n",
       "      <td>0.0</td>\n",
       "    </tr>\n",
       "    <tr>\n",
       "      <th>2213756</th>\n",
       "      <td>205.0</td>\n",
       "      <td>1.0</td>\n",
       "    </tr>\n",
       "    <tr>\n",
       "      <th>4372882</th>\n",
       "      <td>231.0</td>\n",
       "      <td>1.0</td>\n",
       "    </tr>\n",
       "    <tr>\n",
       "      <th>2224046</th>\n",
       "      <td>222.0</td>\n",
       "      <td>1.0</td>\n",
       "    </tr>\n",
       "  </tbody>\n",
       "</table>\n",
       "</div>"
      ],
      "text/plain": [
       "         actual_elapsed_time  haul_type\n",
       "5817519                149.0        0.0\n",
       "3440584                 63.0        0.0\n",
       "2213756                205.0        1.0\n",
       "4372882                231.0        1.0\n",
       "2224046                222.0        1.0"
      ]
     },
     "execution_count": 34,
     "metadata": {},
     "output_type": "execute_result"
    }
   ],
   "source": [
    "flight_sample[['actual_elapsed_time','haul_type']].head()"
   ]
  },
  {
   "cell_type": "code",
   "execution_count": null,
   "metadata": {},
   "outputs": [],
   "source": []
  }
 ],
 "metadata": {
  "kernelspec": {
   "display_name": "Python 3",
   "language": "python",
   "name": "python3"
  },
  "language_info": {
   "codemirror_mode": {
    "name": "ipython",
    "version": 3
   },
   "file_extension": ".py",
   "mimetype": "text/x-python",
   "name": "python",
   "nbconvert_exporter": "python",
   "pygments_lexer": "ipython3",
   "version": "3.8.5"
  }
 },
 "nbformat": 4,
 "nbformat_minor": 4
}
