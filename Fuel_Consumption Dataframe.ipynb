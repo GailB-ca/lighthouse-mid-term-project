{
 "cells": [
  {
   "cell_type": "code",
   "execution_count": 1,
   "metadata": {},
   "outputs": [],
   "source": [
    "%run ./db_connection.ipynb"
   ]
  },
  {
   "cell_type": "code",
   "execution_count": 3,
   "metadata": {},
   "outputs": [],
   "source": [
    "fuel_data_2019 = \"\"\"\n",
    "   SELECT \n",
    "    unique_carrier, airline_id, carrier_group_new,\n",
    "    sdomt_gallons, satl_gallons, spac_gallons, slat_gallons,\n",
    "    sint_gallons, ts_gallons, tdomt_gallons, tint_gallons,\n",
    "    total_gallons, sdomt_cost, satl_cost, spac_cost, slat_cost,\n",
    "    sint_cost, ts_cost, tdomt_cost, tint_cost, total_cost,\n",
    "    year,month\n",
    "   FROM fuel_comsumption\n",
    "   WHERE year = 2019\n",
    "\"\"\"\n",
    "fuel_2019 = execute_read_query(con, fuel_data_2019)"
   ]
  },
  {
   "cell_type": "code",
   "execution_count": 5,
   "metadata": {},
   "outputs": [
    {
     "data": {
      "text/plain": [
       "10534"
      ]
     },
     "execution_count": 5,
     "metadata": {},
     "output_type": "execute_result"
    }
   ],
   "source": [
    "fuel_2019.size"
   ]
  },
  {
   "cell_type": "markdown",
   "metadata": {},
   "source": [
    "## Check the column data types"
   ]
  },
  {
   "cell_type": "code",
   "execution_count": 6,
   "metadata": {},
   "outputs": [
    {
     "data": {
      "text/plain": [
       "unique_carrier        object\n",
       "airline_id           float64\n",
       "carrier_group_new      int64\n",
       "sdomt_gallons        float64\n",
       "satl_gallons         float64\n",
       "spac_gallons         float64\n",
       "slat_gallons         float64\n",
       "sint_gallons         float64\n",
       "ts_gallons           float64\n",
       "tdomt_gallons        float64\n",
       "tint_gallons         float64\n",
       "total_gallons        float64\n",
       "sdomt_cost           float64\n",
       "satl_cost            float64\n",
       "spac_cost            float64\n",
       "slat_cost            float64\n",
       "sint_cost            float64\n",
       "ts_cost              float64\n",
       "tdomt_cost           float64\n",
       "tint_cost            float64\n",
       "total_cost           float64\n",
       "year                   int64\n",
       "month                  int64\n",
       "dtype: object"
      ]
     },
     "execution_count": 6,
     "metadata": {},
     "output_type": "execute_result"
    }
   ],
   "source": [
    "fuel_2019.dtypes"
   ]
  },
  {
   "cell_type": "markdown",
   "metadata": {},
   "source": [
    "### Encode the String columns\n",
    "- unique carrier"
   ]
  },
  {
   "cell_type": "code",
   "execution_count": 7,
   "metadata": {},
   "outputs": [],
   "source": [
    "# Must install category encoders to use this code block\n",
    "# - pip install category_encoders\n",
    "import category_encoders as ce\n",
    "\n",
    "ce_ordinal = ce.OrdinalEncoder(cols=['unique_carrier'])\n",
    "fuel_encoded = ce_ordinal.fit_transform(fuel_2019)\n"
   ]
  },
  {
   "cell_type": "code",
   "execution_count": 8,
   "metadata": {},
   "outputs": [
    {
     "data": {
      "text/plain": [
       "unique_carrier         int64\n",
       "airline_id           float64\n",
       "carrier_group_new      int64\n",
       "sdomt_gallons        float64\n",
       "satl_gallons         float64\n",
       "spac_gallons         float64\n",
       "slat_gallons         float64\n",
       "sint_gallons         float64\n",
       "ts_gallons           float64\n",
       "tdomt_gallons        float64\n",
       "tint_gallons         float64\n",
       "total_gallons        float64\n",
       "sdomt_cost           float64\n",
       "satl_cost            float64\n",
       "spac_cost            float64\n",
       "slat_cost            float64\n",
       "sint_cost            float64\n",
       "ts_cost              float64\n",
       "tdomt_cost           float64\n",
       "tint_cost            float64\n",
       "total_cost           float64\n",
       "year                   int64\n",
       "month                  int64\n",
       "dtype: object"
      ]
     },
     "execution_count": 8,
     "metadata": {},
     "output_type": "execute_result"
    }
   ],
   "source": [
    "fuel_encoded.dtypes"
   ]
  },
  {
   "cell_type": "markdown",
   "metadata": {},
   "source": [
    "## Check for Null values"
   ]
  },
  {
   "cell_type": "code",
   "execution_count": 10,
   "metadata": {},
   "outputs": [
    {
     "data": {
      "text/html": [
       "<div>\n",
       "<style scoped>\n",
       "    .dataframe tbody tr th:only-of-type {\n",
       "        vertical-align: middle;\n",
       "    }\n",
       "\n",
       "    .dataframe tbody tr th {\n",
       "        vertical-align: top;\n",
       "    }\n",
       "\n",
       "    .dataframe thead th {\n",
       "        text-align: right;\n",
       "    }\n",
       "</style>\n",
       "<table border=\"1\" class=\"dataframe\">\n",
       "  <thead>\n",
       "    <tr style=\"text-align: right;\">\n",
       "      <th></th>\n",
       "      <th>41</th>\n",
       "    </tr>\n",
       "  </thead>\n",
       "  <tbody>\n",
       "    <tr>\n",
       "      <th>unique_carrier</th>\n",
       "      <td>42.0</td>\n",
       "    </tr>\n",
       "    <tr>\n",
       "      <th>airline_id</th>\n",
       "      <td>20422.0</td>\n",
       "    </tr>\n",
       "    <tr>\n",
       "      <th>carrier_group_new</th>\n",
       "      <td>2.0</td>\n",
       "    </tr>\n",
       "    <tr>\n",
       "      <th>sdomt_gallons</th>\n",
       "      <td>3603825.0</td>\n",
       "    </tr>\n",
       "    <tr>\n",
       "      <th>satl_gallons</th>\n",
       "      <td>0.0</td>\n",
       "    </tr>\n",
       "    <tr>\n",
       "      <th>spac_gallons</th>\n",
       "      <td>0.0</td>\n",
       "    </tr>\n",
       "    <tr>\n",
       "      <th>slat_gallons</th>\n",
       "      <td>1228302.0</td>\n",
       "    </tr>\n",
       "    <tr>\n",
       "      <th>sint_gallons</th>\n",
       "      <td>1228302.0</td>\n",
       "    </tr>\n",
       "    <tr>\n",
       "      <th>ts_gallons</th>\n",
       "      <td>4832127.0</td>\n",
       "    </tr>\n",
       "    <tr>\n",
       "      <th>tdomt_gallons</th>\n",
       "      <td>4116225.0</td>\n",
       "    </tr>\n",
       "    <tr>\n",
       "      <th>tint_gallons</th>\n",
       "      <td>1344257.0</td>\n",
       "    </tr>\n",
       "    <tr>\n",
       "      <th>total_gallons</th>\n",
       "      <td>NaN</td>\n",
       "    </tr>\n",
       "    <tr>\n",
       "      <th>sdomt_cost</th>\n",
       "      <td>7127230.0</td>\n",
       "    </tr>\n",
       "    <tr>\n",
       "      <th>satl_cost</th>\n",
       "      <td>0.0</td>\n",
       "    </tr>\n",
       "    <tr>\n",
       "      <th>spac_cost</th>\n",
       "      <td>0.0</td>\n",
       "    </tr>\n",
       "    <tr>\n",
       "      <th>slat_cost</th>\n",
       "      <td>2630245.0</td>\n",
       "    </tr>\n",
       "    <tr>\n",
       "      <th>sint_cost</th>\n",
       "      <td>2630245.0</td>\n",
       "    </tr>\n",
       "    <tr>\n",
       "      <th>ts_cost</th>\n",
       "      <td>9757475.0</td>\n",
       "    </tr>\n",
       "    <tr>\n",
       "      <th>tdomt_cost</th>\n",
       "      <td>9034510.0</td>\n",
       "    </tr>\n",
       "    <tr>\n",
       "      <th>tint_cost</th>\n",
       "      <td>2861737.0</td>\n",
       "    </tr>\n",
       "    <tr>\n",
       "      <th>total_cost</th>\n",
       "      <td>11896247.0</td>\n",
       "    </tr>\n",
       "    <tr>\n",
       "      <th>year</th>\n",
       "      <td>2019.0</td>\n",
       "    </tr>\n",
       "    <tr>\n",
       "      <th>month</th>\n",
       "      <td>1.0</td>\n",
       "    </tr>\n",
       "  </tbody>\n",
       "</table>\n",
       "</div>"
      ],
      "text/plain": [
       "                           41\n",
       "unique_carrier           42.0\n",
       "airline_id            20422.0\n",
       "carrier_group_new         2.0\n",
       "sdomt_gallons       3603825.0\n",
       "satl_gallons              0.0\n",
       "spac_gallons              0.0\n",
       "slat_gallons        1228302.0\n",
       "sint_gallons        1228302.0\n",
       "ts_gallons          4832127.0\n",
       "tdomt_gallons       4116225.0\n",
       "tint_gallons        1344257.0\n",
       "total_gallons             NaN\n",
       "sdomt_cost          7127230.0\n",
       "satl_cost                 0.0\n",
       "spac_cost                 0.0\n",
       "slat_cost           2630245.0\n",
       "sint_cost           2630245.0\n",
       "ts_cost             9757475.0\n",
       "tdomt_cost          9034510.0\n",
       "tint_cost           2861737.0\n",
       "total_cost         11896247.0\n",
       "year                   2019.0\n",
       "month                     1.0"
      ]
     },
     "execution_count": 10,
     "metadata": {},
     "output_type": "execute_result"
    }
   ],
   "source": [
    "fuel_encoded[fuel_encoded.isna().any(axis=1)].T"
   ]
  },
  {
   "cell_type": "markdown",
   "metadata": {},
   "source": [
    "### Conclusion: \n",
    "total_gallons has a null value"
   ]
  },
  {
   "cell_type": "code",
   "execution_count": null,
   "metadata": {},
   "outputs": [],
   "source": []
  }
 ],
 "metadata": {
  "kernelspec": {
   "display_name": "Python 3",
   "language": "python",
   "name": "python3"
  },
  "language_info": {
   "codemirror_mode": {
    "name": "ipython",
    "version": 3
   },
   "file_extension": ".py",
   "mimetype": "text/x-python",
   "name": "python",
   "nbconvert_exporter": "python",
   "pygments_lexer": "ipython3",
   "version": "3.8.5"
  }
 },
 "nbformat": 4,
 "nbformat_minor": 4
}
