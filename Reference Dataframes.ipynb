{
 "cells": [
  {
   "cell_type": "markdown",
   "metadata": {},
   "source": [
    "# Reference Dataframes\n",
    "Dataframes with aggregated date that can be merged to the Flights dataframe as a new feature"
   ]
  },
  {
   "cell_type": "code",
   "execution_count": 13,
   "metadata": {},
   "outputs": [],
   "source": [
    "import pickle\n",
    "from datetime import datetime"
   ]
  },
  {
   "cell_type": "code",
   "execution_count": 2,
   "metadata": {},
   "outputs": [],
   "source": [
    "\n",
    "filename = 'flight_2019'\n",
    "\n",
    "infile = open(filename,'rb')\n",
    "flight_2019 = pickle.load(infile)\n",
    "infile.close()"
   ]
  },
  {
   "cell_type": "markdown",
   "metadata": {},
   "source": [
    "#### New dataframe with a smaller sample of 500,000 records"
   ]
  },
  {
   "cell_type": "code",
   "execution_count": 23,
   "metadata": {},
   "outputs": [],
   "source": [
    "flight_sample = flight_2019.sample(n=30000, random_state=1)"
   ]
  },
  {
   "cell_type": "code",
   "execution_count": 24,
   "metadata": {},
   "outputs": [
    {
     "data": {
      "text/plain": [
       "(30000, 38)"
      ]
     },
     "execution_count": 24,
     "metadata": {},
     "output_type": "execute_result"
    }
   ],
   "source": [
    "flight_sample.shape"
   ]
  },
  {
   "cell_type": "code",
   "execution_count": 38,
   "metadata": {},
   "outputs": [],
   "source": [
    "def is_delayed_feature(flights_df):\n",
    "    flights_df_cp = flights_df.copy()\n",
    "    \n",
    "    flights_df_cp['dep_delay'] = flights_df_cp['dep_delay'].fillna(0)\n",
    "    flights_df_cp['arr_delay'] = flights_df_cp['arr_delay'].fillna(0)\n",
    "    flights_df_cp['carrier_delay'] = flights_df_cp['carrier_delay'].fillna(0)\n",
    "    flights_df_cp['weather_delay'] = flights_df_cp['weather_delay'].fillna(0)\n",
    "    flights_df_cp['nas_delay'] = flights_df_cp['nas_delay'].fillna(0)\n",
    "    flights_df_cp['security_delay'] = flights_df_cp['security_delay'].fillna(0)\n",
    "    flights_df_cp['late_aircraft_delay'] = flights_df_cp['late_aircraft_delay'].fillna(0)\n",
    "\n",
    "    flights_df_cp['total_delay'] = flights_df_cp.apply(\n",
    "        lambda x: ((x['dep_delay'] + x['arr_delay'] +\n",
    "                 x['carrier_delay'] +\n",
    "                 x['weather_delay'] + x['nas_delay'] + x['security_delay'] +\n",
    "                 x['late_aircraft_delay']\n",
    "        )),  axis=1)\n",
    "    \n",
    "    return flights_df_cp.apply(\n",
    "        lambda x: (0 if x['total_delay'] <= 0 else 1),  axis=1)\n",
    "    \n",
    "def month_feature(flights_df):\n",
    "    flights_df_cp = flights_df.copy()\n",
    "    \n",
    "    return flights_df_cp[flights_df_cp['fl_date'].notna()].apply(\n",
    "        lambda x: datetime.strptime(x['fl_date'], '%Y-%m-%d').date().month, axis=1)\n",
    "\n",
    "    \n",
    "def arrival_hour_of_day_feature(flights_df):\n",
    "    flights_df_cp = flights_df.copy()\n",
    "    \n",
    "    return flights_df_cp[flights_df_cp['crs_arr_time'].notna()].apply(\n",
    "        lambda x: 0 if x['crs_arr_time'] == 2400.0 else datetime.strptime(str(int(x['crs_arr_time'])).zfill(4), '%H%M').time().hour, axis=1)\n",
    "   \n"
   ]
  },
  {
   "cell_type": "markdown",
   "metadata": {},
   "source": [
    "## 1. Percent of Delay Count by Month"
   ]
  },
  {
   "cell_type": "code",
   "execution_count": null,
   "metadata": {},
   "outputs": [],
   "source": [
    "def percent_delay_by_month_dataframe(flights_df, filename):\n",
    "    flights_df_cp = flights_df.copy()\n",
    "\n",
    "    flights_df_cp['is_delayed'] = is_delayed_feature(flights_df_cp)\n",
    "    flights_df_cp['arr_month'] = month_feature(flights_df_cp)\n",
    "    \n",
    "    total_delay_df = flights_df_cp[flights_df_cp['is_delayed'] == 1].groupby(\n",
    "        'arr_month').arr_month.agg(total_delays=('arr_month', 'count')).reset_index()\n",
    "    \n",
    "    \n",
    "    total_delays = total_delay_df['total_delays'].sum()\n",
    "    total_delay_df['percent_delay'] = total_delay_df.apply(\n",
    "        lambda x: (x['total_delays'] / total_delays),  axis=1\n",
    "    )\n",
    "    total_delay_df = total_delay_df.drop(columns=['total_delays'])\n",
    "    outfile = open(filename,'wb')\n",
    "\n",
    "    pickle.dump(total_delay_df,outfile)\n",
    "    outfile.close()    "
   ]
  },
  {
   "cell_type": "code",
   "execution_count": 35,
   "metadata": {},
   "outputs": [],
   "source": [
    "percent_delay_by_month_dataframe(flight_sample, './reference/percent_delay_by_month_2019')"
   ]
  },
  {
   "cell_type": "code",
   "execution_count": 36,
   "metadata": {},
   "outputs": [],
   "source": [
    "\n",
    "filename = './reference/percent_delay_by_month_2019'\n",
    "\n",
    "infile = open(filename,'rb')\n",
    "delay_df = pickle.load(infile)\n",
    "infile.close()"
   ]
  },
  {
   "cell_type": "code",
   "execution_count": 37,
   "metadata": {},
   "outputs": [
    {
     "data": {
      "text/html": [
       "<div>\n",
       "<style scoped>\n",
       "    .dataframe tbody tr th:only-of-type {\n",
       "        vertical-align: middle;\n",
       "    }\n",
       "\n",
       "    .dataframe tbody tr th {\n",
       "        vertical-align: top;\n",
       "    }\n",
       "\n",
       "    .dataframe thead th {\n",
       "        text-align: right;\n",
       "    }\n",
       "</style>\n",
       "<table border=\"1\" class=\"dataframe\">\n",
       "  <thead>\n",
       "    <tr style=\"text-align: right;\">\n",
       "      <th></th>\n",
       "      <th>arr_month</th>\n",
       "      <th>percent_delay</th>\n",
       "    </tr>\n",
       "  </thead>\n",
       "  <tbody>\n",
       "    <tr>\n",
       "      <th>0</th>\n",
       "      <td>1</td>\n",
       "      <td>0.073171</td>\n",
       "    </tr>\n",
       "    <tr>\n",
       "      <th>1</th>\n",
       "      <td>2</td>\n",
       "      <td>0.080085</td>\n",
       "    </tr>\n",
       "    <tr>\n",
       "      <th>2</th>\n",
       "      <td>3</td>\n",
       "      <td>0.079796</td>\n",
       "    </tr>\n",
       "    <tr>\n",
       "      <th>3</th>\n",
       "      <td>4</td>\n",
       "      <td>0.077108</td>\n",
       "    </tr>\n",
       "    <tr>\n",
       "      <th>4</th>\n",
       "      <td>5</td>\n",
       "      <td>0.088727</td>\n",
       "    </tr>\n",
       "    <tr>\n",
       "      <th>5</th>\n",
       "      <td>6</td>\n",
       "      <td>0.101402</td>\n",
       "    </tr>\n",
       "    <tr>\n",
       "      <th>6</th>\n",
       "      <td>7</td>\n",
       "      <td>0.093816</td>\n",
       "    </tr>\n",
       "    <tr>\n",
       "      <th>7</th>\n",
       "      <td>8</td>\n",
       "      <td>0.091511</td>\n",
       "    </tr>\n",
       "    <tr>\n",
       "      <th>8</th>\n",
       "      <td>9</td>\n",
       "      <td>0.064721</td>\n",
       "    </tr>\n",
       "    <tr>\n",
       "      <th>9</th>\n",
       "      <td>10</td>\n",
       "      <td>0.085366</td>\n",
       "    </tr>\n",
       "    <tr>\n",
       "      <th>10</th>\n",
       "      <td>11</td>\n",
       "      <td>0.070578</td>\n",
       "    </tr>\n",
       "    <tr>\n",
       "      <th>11</th>\n",
       "      <td>12</td>\n",
       "      <td>0.093720</td>\n",
       "    </tr>\n",
       "  </tbody>\n",
       "</table>\n",
       "</div>"
      ],
      "text/plain": [
       "    arr_month  percent_delay\n",
       "0           1       0.073171\n",
       "1           2       0.080085\n",
       "2           3       0.079796\n",
       "3           4       0.077108\n",
       "4           5       0.088727\n",
       "5           6       0.101402\n",
       "6           7       0.093816\n",
       "7           8       0.091511\n",
       "8           9       0.064721\n",
       "9          10       0.085366\n",
       "10         11       0.070578\n",
       "11         12       0.093720"
      ]
     },
     "execution_count": 37,
     "metadata": {},
     "output_type": "execute_result"
    }
   ],
   "source": [
    "delay_df.head(12)"
   ]
  },
  {
   "cell_type": "markdown",
   "metadata": {},
   "source": [
    "## 2. Percentage of Flights per Hour"
   ]
  },
  {
   "cell_type": "code",
   "execution_count": 41,
   "metadata": {},
   "outputs": [],
   "source": [
    "def percent_flights_by_hour_dataframe(flights_df, filename):\n",
    "    flights_df_cp = flights_df.copy()\n",
    "\n",
    "    flights_df_cp['arr_hour_of_day'] = arrival_hour_of_day_feature(flights_df_cp)\n",
    "       \n",
    "    num_flights_by_hour = flights_df_cp.groupby(\n",
    "        'arr_hour_of_day').agg(num_flights=('flights', 'count')).reset_index()\n",
    "    num_flights_by_hour.rename(columns = {'arr_hour_of_day':'hour_of_day'}, inplace = True)\n",
    "    \n",
    "    total_flights = num_flights_by_hour['num_flights'].sum()\n",
    "    num_flights_by_hour['percent_flights'] = num_flights_by_hour.apply(\n",
    "        lambda x: (x['num_flights'] / total_flights),  axis=1\n",
    "    )\n",
    "    num_flights_by_hour = num_flights_by_hour.drop(columns=['num_flights'])\n",
    "    outfile = open(filename,'wb')\n",
    "\n",
    "    pickle.dump(num_flights_by_hour,outfile)\n",
    "    outfile.close()   \n",
    "    \n",
    "    "
   ]
  },
  {
   "cell_type": "code",
   "execution_count": 42,
   "metadata": {},
   "outputs": [],
   "source": [
    "percent_flights_by_hour_dataframe(flight_sample, './reference/percent_flights_by_month_2019')"
   ]
  },
  {
   "cell_type": "code",
   "execution_count": 45,
   "metadata": {},
   "outputs": [
    {
     "data": {
      "text/html": [
       "<div>\n",
       "<style scoped>\n",
       "    .dataframe tbody tr th:only-of-type {\n",
       "        vertical-align: middle;\n",
       "    }\n",
       "\n",
       "    .dataframe tbody tr th {\n",
       "        vertical-align: top;\n",
       "    }\n",
       "\n",
       "    .dataframe thead th {\n",
       "        text-align: right;\n",
       "    }\n",
       "</style>\n",
       "<table border=\"1\" class=\"dataframe\">\n",
       "  <thead>\n",
       "    <tr style=\"text-align: right;\">\n",
       "      <th></th>\n",
       "      <th>hour_of_day</th>\n",
       "      <th>percent_flights</th>\n",
       "    </tr>\n",
       "  </thead>\n",
       "  <tbody>\n",
       "    <tr>\n",
       "      <th>0</th>\n",
       "      <td>0</td>\n",
       "      <td>0.014567</td>\n",
       "    </tr>\n",
       "    <tr>\n",
       "      <th>1</th>\n",
       "      <td>1</td>\n",
       "      <td>0.002733</td>\n",
       "    </tr>\n",
       "    <tr>\n",
       "      <th>2</th>\n",
       "      <td>2</td>\n",
       "      <td>0.000367</td>\n",
       "    </tr>\n",
       "    <tr>\n",
       "      <th>3</th>\n",
       "      <td>3</td>\n",
       "      <td>0.000233</td>\n",
       "    </tr>\n",
       "    <tr>\n",
       "      <th>4</th>\n",
       "      <td>4</td>\n",
       "      <td>0.001333</td>\n",
       "    </tr>\n",
       "  </tbody>\n",
       "</table>\n",
       "</div>"
      ],
      "text/plain": [
       "   hour_of_day  percent_flights\n",
       "0            0         0.014567\n",
       "1            1         0.002733\n",
       "2            2         0.000367\n",
       "3            3         0.000233\n",
       "4            4         0.001333"
      ]
     },
     "execution_count": 45,
     "metadata": {},
     "output_type": "execute_result"
    }
   ],
   "source": [
    "\n",
    "filename = './reference/percent_flights_by_month_2019'\n",
    "\n",
    "infile = open(filename,'rb')\n",
    "flight_counts_df = pickle.load(infile)\n",
    "infile.close()\n",
    "\n",
    "flight_counts_df.head(5)"
   ]
  },
  {
   "cell_type": "code",
   "execution_count": null,
   "metadata": {},
   "outputs": [],
   "source": []
  }
 ],
 "metadata": {
  "kernelspec": {
   "display_name": "Python 3",
   "language": "python",
   "name": "python3"
  },
  "language_info": {
   "codemirror_mode": {
    "name": "ipython",
    "version": 3
   },
   "file_extension": ".py",
   "mimetype": "text/x-python",
   "name": "python",
   "nbconvert_exporter": "python",
   "pygments_lexer": "ipython3",
   "version": "3.8.5"
  }
 },
 "nbformat": 4,
 "nbformat_minor": 4
}
