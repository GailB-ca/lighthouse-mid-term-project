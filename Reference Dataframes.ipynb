{
 "cells": [
  {
   "cell_type": "markdown",
   "metadata": {},
   "source": [
    "# Reference Dataframes\n",
    "Dataframes with aggregated date that can be merged to the Flights dataframe as a new feature"
   ]
  },
  {
   "cell_type": "code",
   "execution_count": 13,
   "metadata": {},
   "outputs": [],
   "source": [
    "import pickle\n",
    "from datetime import datetime"
   ]
  },
  {
   "cell_type": "code",
   "execution_count": 2,
   "metadata": {},
   "outputs": [],
   "source": [
    "\n",
    "filename = 'flight_2019'\n",
    "\n",
    "infile = open(filename,'rb')\n",
    "flight_2019 = pickle.load(infile)\n",
    "infile.close()"
   ]
  },
  {
   "cell_type": "markdown",
   "metadata": {},
   "source": [
    "#### New dataframe with a smaller sample of 500,000 records"
   ]
  },
  {
   "cell_type": "code",
   "execution_count": 23,
   "metadata": {},
   "outputs": [],
   "source": [
    "flight_sample = flight_2019.sample(n=30000, random_state=1)"
   ]
  },
  {
   "cell_type": "code",
   "execution_count": 24,
   "metadata": {},
   "outputs": [
    {
     "data": {
      "text/plain": [
       "(30000, 38)"
      ]
     },
     "execution_count": 24,
     "metadata": {},
     "output_type": "execute_result"
    }
   ],
   "source": [
    "flight_sample.shape"
   ]
  },
  {
   "cell_type": "code",
   "execution_count": 50,
   "metadata": {},
   "outputs": [],
   "source": [
    "def month_feature(flights_df):\n",
    "    flights_df_cp = flights_df.copy()\n",
    "    \n",
    "    return flights_df_cp[flights_df_cp['fl_date'].notna()].apply(\n",
    "        lambda x: datetime.strptime(x['fl_date'], '%Y-%m-%d').date().month, axis=1)\n",
    "\n",
    "def is_delayed_feature(flights_df):\n",
    "    flights_df_cp = flights_df.copy()\n",
    "    \n",
    "    flights_df_cp['dep_delay'] = flights_df_cp['dep_delay'].fillna(0)\n",
    "    flights_df_cp['arr_delay'] = flights_df_cp['arr_delay'].fillna(0)\n",
    "    flights_df_cp['carrier_delay'] = flights_df_cp['carrier_delay'].fillna(0)\n",
    "    flights_df_cp['weather_delay'] = flights_df_cp['weather_delay'].fillna(0)\n",
    "    flights_df_cp['nas_delay'] = flights_df_cp['nas_delay'].fillna(0)\n",
    "    flights_df_cp['security_delay'] = flights_df_cp['security_delay'].fillna(0)\n",
    "    flights_df_cp['late_aircraft_delay'] = flights_df_cp['late_aircraft_delay'].fillna(0)\n",
    "\n",
    "    flights_df_cp['total_delay'] = flights_df_cp.apply(\n",
    "        lambda x: ((x['dep_delay'] + x['arr_delay'] +\n",
    "                 x['carrier_delay'] +\n",
    "                 x['weather_delay'] + x['nas_delay'] + x['security_delay'] +\n",
    "                 x['late_aircraft_delay']\n",
    "        )),  axis=1)\n",
    "    \n",
    "    return flights_df_cp.apply(\n",
    "        lambda x: (0 if x['total_delay'] <= 0 else 1),  axis=1)\n",
    "    \n",
    "def month_feature(flights_df):\n",
    "    flights_df_cp = flights_df.copy()\n",
    "    \n",
    "    return flights_df_cp[flights_df_cp['fl_date'].notna()].apply(\n",
    "        lambda x: datetime.strptime(x['fl_date'], '%Y-%m-%d').date().month, axis=1)\n",
    "\n",
    "    \n",
    "def arrival_hour_of_day_feature(flights_df):\n",
    "    flights_df_cp = flights_df.copy()\n",
    "    \n",
    "    return flights_df_cp[flights_df_cp['crs_arr_time'].notna()].apply(\n",
    "        lambda x: 0 if x['crs_arr_time'] == 2400.0 else datetime.strptime(str(int(x['crs_arr_time'])).zfill(4), '%H%M').time().hour, axis=1)\n",
    "   \n"
   ]
  },
  {
   "cell_type": "markdown",
   "metadata": {},
   "source": [
    "## 1. Percent of Delay Count by Month"
   ]
  },
  {
   "cell_type": "code",
   "execution_count": null,
   "metadata": {},
   "outputs": [],
   "source": [
    "def percent_delay_by_month_dataframe(flights_df, filename):\n",
    "    flights_df_cp = flights_df.copy()\n",
    "\n",
    "    flights_df_cp['is_delayed'] = is_delayed_feature(flights_df_cp)\n",
    "    flights_df_cp['arr_month'] = month_feature(flights_df_cp)\n",
    "    \n",
    "    total_delay_df = flights_df_cp[flights_df_cp['is_delayed'] == 1].groupby(\n",
    "        'arr_month').arr_month.agg(total_delays=('arr_month', 'count')).reset_index()\n",
    "    \n",
    "    \n",
    "    total_delays = total_delay_df['total_delays'].sum()\n",
    "    total_delay_df['percent_delay'] = total_delay_df.apply(\n",
    "        lambda x: (x['total_delays'] / total_delays),  axis=1\n",
    "    )\n",
    "    total_delay_df = total_delay_df.drop(columns=['total_delays'])\n",
    "    outfile = open(filename,'wb')\n",
    "\n",
    "    pickle.dump(total_delay_df,outfile)\n",
    "    outfile.close()    "
   ]
  },
  {
   "cell_type": "code",
   "execution_count": 35,
   "metadata": {},
   "outputs": [],
   "source": [
    "percent_delay_by_month_dataframe(flight_sample, './reference/percent_delay_by_month_2019')"
   ]
  },
  {
   "cell_type": "code",
   "execution_count": 36,
   "metadata": {},
   "outputs": [],
   "source": [
    "\n",
    "filename = './reference/percent_delay_by_month_2019'\n",
    "\n",
    "infile = open(filename,'rb')\n",
    "delay_df = pickle.load(infile)\n",
    "infile.close()"
   ]
  },
  {
   "cell_type": "code",
   "execution_count": 37,
   "metadata": {},
   "outputs": [
    {
     "data": {
      "text/html": [
       "<div>\n",
       "<style scoped>\n",
       "    .dataframe tbody tr th:only-of-type {\n",
       "        vertical-align: middle;\n",
       "    }\n",
       "\n",
       "    .dataframe tbody tr th {\n",
       "        vertical-align: top;\n",
       "    }\n",
       "\n",
       "    .dataframe thead th {\n",
       "        text-align: right;\n",
       "    }\n",
       "</style>\n",
       "<table border=\"1\" class=\"dataframe\">\n",
       "  <thead>\n",
       "    <tr style=\"text-align: right;\">\n",
       "      <th></th>\n",
       "      <th>arr_month</th>\n",
       "      <th>percent_delay</th>\n",
       "    </tr>\n",
       "  </thead>\n",
       "  <tbody>\n",
       "    <tr>\n",
       "      <th>0</th>\n",
       "      <td>1</td>\n",
       "      <td>0.073171</td>\n",
       "    </tr>\n",
       "    <tr>\n",
       "      <th>1</th>\n",
       "      <td>2</td>\n",
       "      <td>0.080085</td>\n",
       "    </tr>\n",
       "    <tr>\n",
       "      <th>2</th>\n",
       "      <td>3</td>\n",
       "      <td>0.079796</td>\n",
       "    </tr>\n",
       "    <tr>\n",
       "      <th>3</th>\n",
       "      <td>4</td>\n",
       "      <td>0.077108</td>\n",
       "    </tr>\n",
       "    <tr>\n",
       "      <th>4</th>\n",
       "      <td>5</td>\n",
       "      <td>0.088727</td>\n",
       "    </tr>\n",
       "    <tr>\n",
       "      <th>5</th>\n",
       "      <td>6</td>\n",
       "      <td>0.101402</td>\n",
       "    </tr>\n",
       "    <tr>\n",
       "      <th>6</th>\n",
       "      <td>7</td>\n",
       "      <td>0.093816</td>\n",
       "    </tr>\n",
       "    <tr>\n",
       "      <th>7</th>\n",
       "      <td>8</td>\n",
       "      <td>0.091511</td>\n",
       "    </tr>\n",
       "    <tr>\n",
       "      <th>8</th>\n",
       "      <td>9</td>\n",
       "      <td>0.064721</td>\n",
       "    </tr>\n",
       "    <tr>\n",
       "      <th>9</th>\n",
       "      <td>10</td>\n",
       "      <td>0.085366</td>\n",
       "    </tr>\n",
       "    <tr>\n",
       "      <th>10</th>\n",
       "      <td>11</td>\n",
       "      <td>0.070578</td>\n",
       "    </tr>\n",
       "    <tr>\n",
       "      <th>11</th>\n",
       "      <td>12</td>\n",
       "      <td>0.093720</td>\n",
       "    </tr>\n",
       "  </tbody>\n",
       "</table>\n",
       "</div>"
      ],
      "text/plain": [
       "    arr_month  percent_delay\n",
       "0           1       0.073171\n",
       "1           2       0.080085\n",
       "2           3       0.079796\n",
       "3           4       0.077108\n",
       "4           5       0.088727\n",
       "5           6       0.101402\n",
       "6           7       0.093816\n",
       "7           8       0.091511\n",
       "8           9       0.064721\n",
       "9          10       0.085366\n",
       "10         11       0.070578\n",
       "11         12       0.093720"
      ]
     },
     "execution_count": 37,
     "metadata": {},
     "output_type": "execute_result"
    }
   ],
   "source": [
    "delay_df.head(12)"
   ]
  },
  {
   "cell_type": "markdown",
   "metadata": {},
   "source": [
    "## 2. Percentage of Flights by Hour of Day"
   ]
  },
  {
   "cell_type": "code",
   "execution_count": 41,
   "metadata": {},
   "outputs": [],
   "source": [
    "def percent_flights_by_hour_dataframe(flights_df, filename):\n",
    "    flights_df_cp = flights_df.copy()\n",
    "\n",
    "    flights_df_cp['arr_hour_of_day'] = arrival_hour_of_day_feature(flights_df_cp)\n",
    "       \n",
    "    num_flights_by_hour = flights_df_cp.groupby(\n",
    "        'arr_hour_of_day').agg(num_flights=('flights', 'count')).reset_index()\n",
    "    num_flights_by_hour.rename(columns = {'arr_hour_of_day':'hour_of_day'}, inplace = True)\n",
    "    \n",
    "    total_flights = num_flights_by_hour['num_flights'].sum()\n",
    "    num_flights_by_hour['percent_flights'] = num_flights_by_hour.apply(\n",
    "        lambda x: (x['num_flights'] / total_flights),  axis=1\n",
    "    )\n",
    "    num_flights_by_hour = num_flights_by_hour.drop(columns=['num_flights'])\n",
    "    outfile = open(filename,'wb')\n",
    "\n",
    "    pickle.dump(num_flights_by_hour,outfile)\n",
    "    outfile.close()   \n",
    "    \n",
    "    "
   ]
  },
  {
   "cell_type": "code",
   "execution_count": 42,
   "metadata": {},
   "outputs": [],
   "source": [
    "percent_flights_by_hour_dataframe(flight_sample, './reference/percent_flights_by_month_2019')"
   ]
  },
  {
   "cell_type": "code",
   "execution_count": 45,
   "metadata": {},
   "outputs": [
    {
     "data": {
      "text/html": [
       "<div>\n",
       "<style scoped>\n",
       "    .dataframe tbody tr th:only-of-type {\n",
       "        vertical-align: middle;\n",
       "    }\n",
       "\n",
       "    .dataframe tbody tr th {\n",
       "        vertical-align: top;\n",
       "    }\n",
       "\n",
       "    .dataframe thead th {\n",
       "        text-align: right;\n",
       "    }\n",
       "</style>\n",
       "<table border=\"1\" class=\"dataframe\">\n",
       "  <thead>\n",
       "    <tr style=\"text-align: right;\">\n",
       "      <th></th>\n",
       "      <th>hour_of_day</th>\n",
       "      <th>percent_flights</th>\n",
       "    </tr>\n",
       "  </thead>\n",
       "  <tbody>\n",
       "    <tr>\n",
       "      <th>0</th>\n",
       "      <td>0</td>\n",
       "      <td>0.014567</td>\n",
       "    </tr>\n",
       "    <tr>\n",
       "      <th>1</th>\n",
       "      <td>1</td>\n",
       "      <td>0.002733</td>\n",
       "    </tr>\n",
       "    <tr>\n",
       "      <th>2</th>\n",
       "      <td>2</td>\n",
       "      <td>0.000367</td>\n",
       "    </tr>\n",
       "    <tr>\n",
       "      <th>3</th>\n",
       "      <td>3</td>\n",
       "      <td>0.000233</td>\n",
       "    </tr>\n",
       "    <tr>\n",
       "      <th>4</th>\n",
       "      <td>4</td>\n",
       "      <td>0.001333</td>\n",
       "    </tr>\n",
       "  </tbody>\n",
       "</table>\n",
       "</div>"
      ],
      "text/plain": [
       "   hour_of_day  percent_flights\n",
       "0            0         0.014567\n",
       "1            1         0.002733\n",
       "2            2         0.000367\n",
       "3            3         0.000233\n",
       "4            4         0.001333"
      ]
     },
     "execution_count": 45,
     "metadata": {},
     "output_type": "execute_result"
    }
   ],
   "source": [
    "filename = './reference/percent_flights_by_month_2019'\n",
    "\n",
    "infile = open(filename,'rb')\n",
    "flight_counts_df = pickle.load(infile)\n",
    "infile.close()\n",
    "\n",
    "flight_counts_df.head(5)"
   ]
  },
  {
   "cell_type": "markdown",
   "metadata": {},
   "source": [
    "## 3. Average Flights per Month by Airport"
   ]
  },
  {
   "cell_type": "code",
   "execution_count": 55,
   "metadata": {},
   "outputs": [],
   "source": [
    "def average_flights_per_month_by_airport(flights_df, filename):\n",
    "    flights_df_cp = flights_df.copy()\n",
    "\n",
    "    flights_df_cp['arr_month'] = month_feature(flights_df_cp)\n",
    "    \n",
    "    # count flights by month and airport\n",
    "    num_flights_by_aiport_and_month = flights_df_cp.groupby(        \n",
    "        ['origin_airport_id','arr_month']).agg(num_flights=('flights', 'count')).reset_index()\n",
    "    \n",
    "    # average flight count\n",
    "    average_flights_by_aiport = num_flights_by_aiport_and_month.groupby(        \n",
    "        'origin_airport_id').agg(avg_flights=('num_flights', 'median')).reset_index()\n",
    "    \n",
    "    outfile = open(filename,'wb')\n",
    "\n",
    "    pickle.dump(average_flights_by_aiport,outfile)\n",
    "    outfile.close()   \n",
    "    "
   ]
  },
  {
   "cell_type": "code",
   "execution_count": 56,
   "metadata": {},
   "outputs": [],
   "source": [
    "filename = './reference/average_flights_by_airport_2019'\n",
    "average_flights_per_month_by_airport(flight_sample, filename)"
   ]
  },
  {
   "cell_type": "code",
   "execution_count": 59,
   "metadata": {},
   "outputs": [
    {
     "data": {
      "text/html": [
       "<div>\n",
       "<style scoped>\n",
       "    .dataframe tbody tr th:only-of-type {\n",
       "        vertical-align: middle;\n",
       "    }\n",
       "\n",
       "    .dataframe tbody tr th {\n",
       "        vertical-align: top;\n",
       "    }\n",
       "\n",
       "    .dataframe thead th {\n",
       "        text-align: right;\n",
       "    }\n",
       "</style>\n",
       "<table border=\"1\" class=\"dataframe\">\n",
       "  <thead>\n",
       "    <tr style=\"text-align: right;\">\n",
       "      <th></th>\n",
       "      <th>origin_airport_id</th>\n",
       "      <th>avg_flights</th>\n",
       "    </tr>\n",
       "  </thead>\n",
       "  <tbody>\n",
       "    <tr>\n",
       "      <th>250</th>\n",
       "      <td>13930</td>\n",
       "      <td>123.5</td>\n",
       "    </tr>\n",
       "    <tr>\n",
       "      <th>20</th>\n",
       "      <td>10397</td>\n",
       "      <td>120.5</td>\n",
       "    </tr>\n",
       "    <tr>\n",
       "      <th>91</th>\n",
       "      <td>11292</td>\n",
       "      <td>94.5</td>\n",
       "    </tr>\n",
       "    <tr>\n",
       "      <th>92</th>\n",
       "      <td>11298</td>\n",
       "      <td>94.0</td>\n",
       "    </tr>\n",
       "    <tr>\n",
       "      <th>71</th>\n",
       "      <td>11057</td>\n",
       "      <td>78.5</td>\n",
       "    </tr>\n",
       "    <tr>\n",
       "      <th>189</th>\n",
       "      <td>12892</td>\n",
       "      <td>74.0</td>\n",
       "    </tr>\n",
       "    <tr>\n",
       "      <th>309</th>\n",
       "      <td>14747</td>\n",
       "      <td>58.0</td>\n",
       "    </tr>\n",
       "    <tr>\n",
       "      <th>162</th>\n",
       "      <td>12266</td>\n",
       "      <td>56.5</td>\n",
       "    </tr>\n",
       "    <tr>\n",
       "      <th>263</th>\n",
       "      <td>14107</td>\n",
       "      <td>53.0</td>\n",
       "    </tr>\n",
       "    <tr>\n",
       "      <th>99</th>\n",
       "      <td>11433</td>\n",
       "      <td>52.5</td>\n",
       "    </tr>\n",
       "    <tr>\n",
       "      <th>311</th>\n",
       "      <td>14771</td>\n",
       "      <td>52.5</td>\n",
       "    </tr>\n",
       "    <tr>\n",
       "      <th>187</th>\n",
       "      <td>12889</td>\n",
       "      <td>52.0</td>\n",
       "    </tr>\n",
       "    <tr>\n",
       "      <th>198</th>\n",
       "      <td>12953</td>\n",
       "      <td>51.5</td>\n",
       "    </tr>\n",
       "    <tr>\n",
       "      <th>236</th>\n",
       "      <td>13487</td>\n",
       "      <td>50.0</td>\n",
       "    </tr>\n",
       "    <tr>\n",
       "      <th>262</th>\n",
       "      <td>14100</td>\n",
       "      <td>49.5</td>\n",
       "    </tr>\n",
       "  </tbody>\n",
       "</table>\n",
       "</div>"
      ],
      "text/plain": [
       "     origin_airport_id  avg_flights\n",
       "250              13930        123.5\n",
       "20               10397        120.5\n",
       "91               11292         94.5\n",
       "92               11298         94.0\n",
       "71               11057         78.5\n",
       "189              12892         74.0\n",
       "309              14747         58.0\n",
       "162              12266         56.5\n",
       "263              14107         53.0\n",
       "99               11433         52.5\n",
       "311              14771         52.5\n",
       "187              12889         52.0\n",
       "198              12953         51.5\n",
       "236              13487         50.0\n",
       "262              14100         49.5"
      ]
     },
     "execution_count": 59,
     "metadata": {},
     "output_type": "execute_result"
    }
   ],
   "source": [
    "infile = open(filename,'rb')\n",
    "flight_counts_df = pickle.load(infile)\n",
    "infile.close()\n",
    "\n",
    "flight_counts_df.sort_values(by=\"avg_flights\", ascending=False).head(15)"
   ]
  },
  {
   "cell_type": "markdown",
   "metadata": {},
   "source": [
    "## 4. Average Passengers per Month by Airport"
   ]
  },
  {
   "cell_type": "code",
   "execution_count": 60,
   "metadata": {},
   "outputs": [],
   "source": [
    "def average_passengers_per_month_by_airport(passengers_df, filename):\n",
    "    passengers_df_cp = passengers_df.copy()\n",
    "    \n",
    "    # count passengers by month and airport\n",
    "    num_passengers_by_aiport_and_month = passengers_df_cp.groupby(        \n",
    "        ['origin_airport_id','month']).agg(num_passengers=('passengers', 'count')).reset_index()\n",
    "    \n",
    "    # average flight count\n",
    "    average_passengers_by_aiport = num_passengers_by_aiport_and_month.groupby(        \n",
    "        'origin_airport_id').agg(avg_flights=('num_passengers', 'median')).reset_index()\n",
    "    \n",
    "    outfile = open(filename,'wb')\n",
    "\n",
    "    pickle.dump(average_passengers_by_aiport,outfile)\n",
    "    outfile.close()  \n"
   ]
  },
  {
   "cell_type": "code",
   "execution_count": null,
   "metadata": {},
   "outputs": [],
   "source": [
    "filename = './passenger_2019'\n",
    "infile = open(filename,'rb')\n",
    "passenger_df = pickle.load(infile)\n",
    "infile.close()"
   ]
  },
  {
   "cell_type": "code",
   "execution_count": 56,
   "metadata": {},
   "outputs": [],
   "source": [
    "filename = './reference/average_passengers_by_airport_2019'\n",
    "average_passengers_per_month_by_airport(passenger_df, filename)"
   ]
  },
  {
   "cell_type": "code",
   "execution_count": 59,
   "metadata": {},
   "outputs": [
    {
     "data": {
      "text/html": [
       "<div>\n",
       "<style scoped>\n",
       "    .dataframe tbody tr th:only-of-type {\n",
       "        vertical-align: middle;\n",
       "    }\n",
       "\n",
       "    .dataframe tbody tr th {\n",
       "        vertical-align: top;\n",
       "    }\n",
       "\n",
       "    .dataframe thead th {\n",
       "        text-align: right;\n",
       "    }\n",
       "</style>\n",
       "<table border=\"1\" class=\"dataframe\">\n",
       "  <thead>\n",
       "    <tr style=\"text-align: right;\">\n",
       "      <th></th>\n",
       "      <th>origin_airport_id</th>\n",
       "      <th>avg_flights</th>\n",
       "    </tr>\n",
       "  </thead>\n",
       "  <tbody>\n",
       "    <tr>\n",
       "      <th>250</th>\n",
       "      <td>13930</td>\n",
       "      <td>123.5</td>\n",
       "    </tr>\n",
       "    <tr>\n",
       "      <th>20</th>\n",
       "      <td>10397</td>\n",
       "      <td>120.5</td>\n",
       "    </tr>\n",
       "    <tr>\n",
       "      <th>91</th>\n",
       "      <td>11292</td>\n",
       "      <td>94.5</td>\n",
       "    </tr>\n",
       "    <tr>\n",
       "      <th>92</th>\n",
       "      <td>11298</td>\n",
       "      <td>94.0</td>\n",
       "    </tr>\n",
       "    <tr>\n",
       "      <th>71</th>\n",
       "      <td>11057</td>\n",
       "      <td>78.5</td>\n",
       "    </tr>\n",
       "    <tr>\n",
       "      <th>189</th>\n",
       "      <td>12892</td>\n",
       "      <td>74.0</td>\n",
       "    </tr>\n",
       "    <tr>\n",
       "      <th>309</th>\n",
       "      <td>14747</td>\n",
       "      <td>58.0</td>\n",
       "    </tr>\n",
       "    <tr>\n",
       "      <th>162</th>\n",
       "      <td>12266</td>\n",
       "      <td>56.5</td>\n",
       "    </tr>\n",
       "    <tr>\n",
       "      <th>263</th>\n",
       "      <td>14107</td>\n",
       "      <td>53.0</td>\n",
       "    </tr>\n",
       "    <tr>\n",
       "      <th>99</th>\n",
       "      <td>11433</td>\n",
       "      <td>52.5</td>\n",
       "    </tr>\n",
       "    <tr>\n",
       "      <th>311</th>\n",
       "      <td>14771</td>\n",
       "      <td>52.5</td>\n",
       "    </tr>\n",
       "    <tr>\n",
       "      <th>187</th>\n",
       "      <td>12889</td>\n",
       "      <td>52.0</td>\n",
       "    </tr>\n",
       "    <tr>\n",
       "      <th>198</th>\n",
       "      <td>12953</td>\n",
       "      <td>51.5</td>\n",
       "    </tr>\n",
       "    <tr>\n",
       "      <th>236</th>\n",
       "      <td>13487</td>\n",
       "      <td>50.0</td>\n",
       "    </tr>\n",
       "    <tr>\n",
       "      <th>262</th>\n",
       "      <td>14100</td>\n",
       "      <td>49.5</td>\n",
       "    </tr>\n",
       "  </tbody>\n",
       "</table>\n",
       "</div>"
      ],
      "text/plain": [
       "     origin_airport_id  avg_flights\n",
       "250              13930        123.5\n",
       "20               10397        120.5\n",
       "91               11292         94.5\n",
       "92               11298         94.0\n",
       "71               11057         78.5\n",
       "189              12892         74.0\n",
       "309              14747         58.0\n",
       "162              12266         56.5\n",
       "263              14107         53.0\n",
       "99               11433         52.5\n",
       "311              14771         52.5\n",
       "187              12889         52.0\n",
       "198              12953         51.5\n",
       "236              13487         50.0\n",
       "262              14100         49.5"
      ]
     },
     "execution_count": 59,
     "metadata": {},
     "output_type": "execute_result"
    }
   ],
   "source": [
    "infile = open(filename,'rb')\n",
    "flight_counts_df = pickle.load(infile)\n",
    "infile.close()\n",
    "\n",
    "flight_counts_df.sort_values(by=\"avg_flights\", ascending=False).head(15)"
   ]
  },
  {
   "cell_type": "markdown",
   "metadata": {},
   "source": [
    "## 5. Average Distance per Month by Carrier"
   ]
  },
  {
   "cell_type": "code",
   "execution_count": null,
   "metadata": {},
   "outputs": [],
   "source": []
  },
  {
   "cell_type": "markdown",
   "metadata": {},
   "source": [
    "## 6. Percentage of Total Passengers by Carrier"
   ]
  },
  {
   "cell_type": "code",
   "execution_count": null,
   "metadata": {},
   "outputs": [],
   "source": []
  },
  {
   "cell_type": "markdown",
   "metadata": {},
   "source": [
    "## 7. Average Fuel Consumption by Carrier"
   ]
  },
  {
   "cell_type": "code",
   "execution_count": null,
   "metadata": {},
   "outputs": [],
   "source": []
  }
 ],
 "metadata": {
  "kernelspec": {
   "display_name": "Python 3",
   "language": "python",
   "name": "python3"
  },
  "language_info": {
   "codemirror_mode": {
    "name": "ipython",
    "version": 3
   },
   "file_extension": ".py",
   "mimetype": "text/x-python",
   "name": "python",
   "nbconvert_exporter": "python",
   "pygments_lexer": "ipython3",
   "version": "3.8.5"
  }
 },
 "nbformat": 4,
 "nbformat_minor": 4
}
