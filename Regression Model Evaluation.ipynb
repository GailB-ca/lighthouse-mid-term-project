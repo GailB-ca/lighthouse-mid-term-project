{
 "cells": [
  {
   "cell_type": "markdown",
   "metadata": {},
   "source": [
    "# Evaluate Random Forest Model"
   ]
  },
  {
   "cell_type": "code",
   "execution_count": 104,
   "metadata": {},
   "outputs": [],
   "source": [
    "import pandas as pd\n",
    "import pickle\n",
    "import pandas as pd\n",
    "import numpy as np\n",
    "\n",
    "from sklearn.preprocessing import StandardScaler\n",
    "from sklearn.model_selection import train_test_split\n",
    "from sklearn.datasets import make_classification\n",
    "from sklearn.model_selection import cross_val_score\n",
    "from sklearn.model_selection import cross_validate\n",
    "from sklearn.model_selection import RepeatedStratifiedKFold\n",
    "from sklearn.model_selection import KFold\n",
    "from sklearn.model_selection import GridSearchCV\n",
    "from sklearn.ensemble import RandomForestRegressor\n",
    "from sklearn.tree import DecisionTreeRegressor\n",
    "import xgboost as xgb\n",
    "from sklearn import metrics"
   ]
  },
  {
   "cell_type": "markdown",
   "metadata": {},
   "source": [
    "## 1. Load the training data"
   ]
  },
  {
   "cell_type": "code",
   "execution_count": 80,
   "metadata": {},
   "outputs": [
    {
     "data": {
      "text/html": [
       "<div>\n",
       "<style scoped>\n",
       "    .dataframe tbody tr th:only-of-type {\n",
       "        vertical-align: middle;\n",
       "    }\n",
       "\n",
       "    .dataframe tbody tr th {\n",
       "        vertical-align: top;\n",
       "    }\n",
       "\n",
       "    .dataframe thead th {\n",
       "        text-align: right;\n",
       "    }\n",
       "</style>\n",
       "<table border=\"1\" class=\"dataframe\">\n",
       "  <thead>\n",
       "    <tr style=\"text-align: right;\">\n",
       "      <th></th>\n",
       "      <th>mkt_unique_carrier</th>\n",
       "      <th>branded_code_share</th>\n",
       "      <th>mkt_carrier_fl_num</th>\n",
       "      <th>op_unique_carrier</th>\n",
       "      <th>tail_num</th>\n",
       "      <th>op_carrier_fl_num</th>\n",
       "      <th>origin_airport_id</th>\n",
       "      <th>dest_airport_id</th>\n",
       "      <th>crs_dep_time</th>\n",
       "      <th>dep_time</th>\n",
       "      <th>...</th>\n",
       "      <th>early_count</th>\n",
       "      <th>early_avgDryDays</th>\n",
       "      <th>early_avgRainDays</th>\n",
       "      <th>early_avgCloud</th>\n",
       "      <th>early_avgSnowDays</th>\n",
       "      <th>delay_count</th>\n",
       "      <th>delay_avgDryDays</th>\n",
       "      <th>delay_avgRainDays</th>\n",
       "      <th>delay_avgCloud</th>\n",
       "      <th>delay_avgSnowDays</th>\n",
       "    </tr>\n",
       "  </thead>\n",
       "  <tbody>\n",
       "    <tr>\n",
       "      <th>0</th>\n",
       "      <td>DL</td>\n",
       "      <td>DL_CODESHARE</td>\n",
       "      <td>4016</td>\n",
       "      <td>OO</td>\n",
       "      <td>N291SY</td>\n",
       "      <td>4016</td>\n",
       "      <td>12953</td>\n",
       "      <td>13342</td>\n",
       "      <td>1747</td>\n",
       "      <td>1944.0</td>\n",
       "      <td>...</td>\n",
       "      <td>55.5</td>\n",
       "      <td>17</td>\n",
       "      <td>11</td>\n",
       "      <td>3</td>\n",
       "      <td>0</td>\n",
       "      <td>30.8</td>\n",
       "      <td>18</td>\n",
       "      <td>10</td>\n",
       "      <td>3</td>\n",
       "      <td>0</td>\n",
       "    </tr>\n",
       "    <tr>\n",
       "      <th>1</th>\n",
       "      <td>DL</td>\n",
       "      <td>DL_CODESHARE</td>\n",
       "      <td>4016</td>\n",
       "      <td>OO</td>\n",
       "      <td>N292SY</td>\n",
       "      <td>4016</td>\n",
       "      <td>12953</td>\n",
       "      <td>13342</td>\n",
       "      <td>1747</td>\n",
       "      <td>1929.0</td>\n",
       "      <td>...</td>\n",
       "      <td>55.5</td>\n",
       "      <td>17</td>\n",
       "      <td>11</td>\n",
       "      <td>3</td>\n",
       "      <td>0</td>\n",
       "      <td>30.8</td>\n",
       "      <td>18</td>\n",
       "      <td>10</td>\n",
       "      <td>3</td>\n",
       "      <td>0</td>\n",
       "    </tr>\n",
       "    <tr>\n",
       "      <th>2</th>\n",
       "      <td>DL</td>\n",
       "      <td>DL_CODESHARE</td>\n",
       "      <td>4016</td>\n",
       "      <td>OO</td>\n",
       "      <td>N278SY</td>\n",
       "      <td>4016</td>\n",
       "      <td>12953</td>\n",
       "      <td>13342</td>\n",
       "      <td>1747</td>\n",
       "      <td>1750.0</td>\n",
       "      <td>...</td>\n",
       "      <td>55.5</td>\n",
       "      <td>17</td>\n",
       "      <td>11</td>\n",
       "      <td>3</td>\n",
       "      <td>0</td>\n",
       "      <td>30.8</td>\n",
       "      <td>18</td>\n",
       "      <td>10</td>\n",
       "      <td>3</td>\n",
       "      <td>0</td>\n",
       "    </tr>\n",
       "    <tr>\n",
       "      <th>3</th>\n",
       "      <td>DL</td>\n",
       "      <td>DL_CODESHARE</td>\n",
       "      <td>3616</td>\n",
       "      <td>OO</td>\n",
       "      <td>N268SY</td>\n",
       "      <td>3616</td>\n",
       "      <td>12953</td>\n",
       "      <td>11995</td>\n",
       "      <td>1729</td>\n",
       "      <td>1851.0</td>\n",
       "      <td>...</td>\n",
       "      <td>55.5</td>\n",
       "      <td>17</td>\n",
       "      <td>11</td>\n",
       "      <td>3</td>\n",
       "      <td>0</td>\n",
       "      <td>30.8</td>\n",
       "      <td>18</td>\n",
       "      <td>10</td>\n",
       "      <td>3</td>\n",
       "      <td>0</td>\n",
       "    </tr>\n",
       "    <tr>\n",
       "      <th>4</th>\n",
       "      <td>DL</td>\n",
       "      <td>DL_CODESHARE</td>\n",
       "      <td>3607</td>\n",
       "      <td>OO</td>\n",
       "      <td>N276SY</td>\n",
       "      <td>3607</td>\n",
       "      <td>12953</td>\n",
       "      <td>11995</td>\n",
       "      <td>910</td>\n",
       "      <td>906.0</td>\n",
       "      <td>...</td>\n",
       "      <td>55.5</td>\n",
       "      <td>17</td>\n",
       "      <td>11</td>\n",
       "      <td>3</td>\n",
       "      <td>0</td>\n",
       "      <td>30.8</td>\n",
       "      <td>18</td>\n",
       "      <td>10</td>\n",
       "      <td>3</td>\n",
       "      <td>0</td>\n",
       "    </tr>\n",
       "  </tbody>\n",
       "</table>\n",
       "<p>5 rows × 66 columns</p>\n",
       "</div>"
      ],
      "text/plain": [
       "  mkt_unique_carrier branded_code_share  mkt_carrier_fl_num op_unique_carrier  \\\n",
       "0                 DL       DL_CODESHARE                4016                OO   \n",
       "1                 DL       DL_CODESHARE                4016                OO   \n",
       "2                 DL       DL_CODESHARE                4016                OO   \n",
       "3                 DL       DL_CODESHARE                3616                OO   \n",
       "4                 DL       DL_CODESHARE                3607                OO   \n",
       "\n",
       "  tail_num  op_carrier_fl_num  origin_airport_id  dest_airport_id  \\\n",
       "0   N291SY               4016              12953            13342   \n",
       "1   N292SY               4016              12953            13342   \n",
       "2   N278SY               4016              12953            13342   \n",
       "3   N268SY               3616              12953            11995   \n",
       "4   N276SY               3607              12953            11995   \n",
       "\n",
       "   crs_dep_time  dep_time  ...  early_count  early_avgDryDays  \\\n",
       "0          1747    1944.0  ...         55.5                17   \n",
       "1          1747    1929.0  ...         55.5                17   \n",
       "2          1747    1750.0  ...         55.5                17   \n",
       "3          1729    1851.0  ...         55.5                17   \n",
       "4           910     906.0  ...         55.5                17   \n",
       "\n",
       "   early_avgRainDays  early_avgCloud  early_avgSnowDays  delay_count  \\\n",
       "0                 11               3                  0         30.8   \n",
       "1                 11               3                  0         30.8   \n",
       "2                 11               3                  0         30.8   \n",
       "3                 11               3                  0         30.8   \n",
       "4                 11               3                  0         30.8   \n",
       "\n",
       "   delay_avgDryDays  delay_avgRainDays  delay_avgCloud delay_avgSnowDays  \n",
       "0                18                 10               3                 0  \n",
       "1                18                 10               3                 0  \n",
       "2                18                 10               3                 0  \n",
       "3                18                 10               3                 0  \n",
       "4                18                 10               3                 0  \n",
       "\n",
       "[5 rows x 66 columns]"
      ]
     },
     "execution_count": 80,
     "metadata": {},
     "output_type": "execute_result"
    }
   ],
   "source": [
    "flight_sample = pd.read_csv('flight_sample1.zip', compression='zip')\n",
    "flight_sample.head()\n"
   ]
  },
  {
   "cell_type": "code",
   "execution_count": 81,
   "metadata": {},
   "outputs": [],
   "source": [
    "flight_sample = flight_sample.sample(n=30000, random_state=1)"
   ]
  },
  {
   "cell_type": "code",
   "execution_count": 82,
   "metadata": {},
   "outputs": [],
   "source": [
    "# Calculate Correlated features from sample\n",
    "corr = flight_sample.corr(method ='pearson')"
   ]
  },
  {
   "cell_type": "code",
   "execution_count": 83,
   "metadata": {},
   "outputs": [],
   "source": [
    "# Drop 100% correlational values(diagonal values in matrix)\n",
    "corr1 = corr[corr < 1].unstack().transpose().sort_values(ascending=False).drop_duplicates()"
   ]
  },
  {
   "cell_type": "code",
   "execution_count": 84,
   "metadata": {
    "jupyter": {
     "source_hidden": true
    }
   },
   "outputs": [
    {
     "data": {
      "text/plain": [
       "['first_dep_time',\n",
       " 'crs_arr_time',\n",
       " 'is_delayed',\n",
       " 'mkt_carrier_fl_num',\n",
       " 'dep_time',\n",
       " 'air_time',\n",
       " 'arr_delay',\n",
       " 'early_avgDryDays',\n",
       " 'early_avgSnowDays',\n",
       " 'avg_passengers',\n",
       " 'distance',\n",
       " 'total_passengers',\n",
       " 'flight_speed',\n",
       " 'delay_avgRainDays',\n",
       " 'delay_avgDryDays',\n",
       " 'crs_dep_time',\n",
       " 'departure_hour_of_day',\n",
       " 'arrival_hour_of_day',\n",
       " 'total_distance',\n",
       " 'percent_flights',\n",
       " 'early_avgRainDays',\n",
       " 'avgCloud',\n",
       " 'early_count',\n",
       " 'actual_elapsed_time',\n",
       " 'taxi_in',\n",
       " 'carrier_delay',\n",
       " 'cancelled',\n",
       " 'arr_time',\n",
       " 'flight_haul_type',\n",
       " 'avg_flights',\n",
       " 'flight_month',\n",
       " 'op_carrier_fl_num',\n",
       " 'delay_avgCloud',\n",
       " 'avgRainDays',\n",
       " 'delay_avgSnowDays',\n",
       " 'longest_add_gtime',\n",
       " 'avgSnowDays',\n",
       " 'crs_elapsed_time',\n",
       " 'total_add_gtime',\n",
       " 'origin_airport_id',\n",
       " 'avgDryDays',\n",
       " 'dest_airport_id',\n",
       " 'avg_fuel',\n",
       " 'early_avgCloud',\n",
       " 'nas_delay',\n",
       " 'wheels_on',\n",
       " 'wheels_off',\n",
       " 'weather_delay',\n",
       " 'percent_delay',\n",
       " 'diverted',\n",
       " 'security_delay',\n",
       " 'avgThunderDays',\n",
       " 'dep_delay',\n",
       " 'delay_count',\n",
       " 'late_aircraft_delay',\n",
       " 'taxi_out']"
      ]
     },
     "execution_count": 84,
     "metadata": {},
     "output_type": "execute_result"
    }
   ],
   "source": [
    "# Get all correlations above threshold value\n",
    "threshold = 0.80\n",
    "corr1 = corr1[corr1 < threshold]\n",
    "\n",
    "# Extract all feature names from correlations above threshold\n",
    "corr_data = corr1.index.values\n",
    "\n",
    "# Flatten into list format\n",
    "lst = [corr_data[x][y] for x in range(len(corr_data)) for y in range(2)]\n",
    "\n",
    "# Isolate Unique feature names\n",
    "unique_features = list(set(lst))\n",
    "unique_features"
   ]
  },
  {
   "cell_type": "markdown",
   "metadata": {},
   "source": [
    "### Prune Data Sample"
   ]
  },
  {
   "cell_type": "code",
   "execution_count": 85,
   "metadata": {},
   "outputs": [],
   "source": [
    "# Keep features with high correlations\n",
    "pruned_data = flight_sample[unique_features]"
   ]
  },
  {
   "cell_type": "code",
   "execution_count": 86,
   "metadata": {},
   "outputs": [
    {
     "name": "stderr",
     "output_type": "stream",
     "text": [
      "/opt/anaconda3/lib/python3.8/site-packages/pandas/core/series.py:4460: SettingWithCopyWarning: \n",
      "A value is trying to be set on a copy of a slice from a DataFrame\n",
      "\n",
      "See the caveats in the documentation: https://pandas.pydata.org/pandas-docs/stable/user_guide/indexing.html#returning-a-view-versus-a-copy\n",
      "  return super().fillna(\n"
     ]
    }
   ],
   "source": [
    "# Get columns with NaN values present\n",
    "NaN_cols = pruned_data.columns[pruned_data.isnull().any()]\n",
    "\n",
    "# Adjust NaN values by replacing them with respective column means to prevent data loss\n",
    "for column in NaN_cols:\n",
    "    pruned_data[column].fillna(value=pruned_data[column].mean(), inplace=True)"
   ]
  },
  {
   "cell_type": "code",
   "execution_count": 87,
   "metadata": {},
   "outputs": [
    {
     "data": {
      "text/plain": [
       "first_dep_time         0\n",
       "dep_time               0\n",
       "air_time               0\n",
       "arr_delay              0\n",
       "actual_elapsed_time    0\n",
       "taxi_in                0\n",
       "carrier_delay          0\n",
       "arr_time               0\n",
       "longest_add_gtime      0\n",
       "total_add_gtime        0\n",
       "nas_delay              0\n",
       "wheels_on              0\n",
       "wheels_off             0\n",
       "weather_delay          0\n",
       "security_delay         0\n",
       "dep_delay              0\n",
       "late_aircraft_delay    0\n",
       "taxi_out               0\n",
       "dtype: int64"
      ]
     },
     "execution_count": 87,
     "metadata": {},
     "output_type": "execute_result"
    }
   ],
   "source": [
    "pruned_data[NaN_cols].isna().sum()"
   ]
  },
  {
   "cell_type": "code",
   "execution_count": 88,
   "metadata": {},
   "outputs": [
    {
     "data": {
      "text/html": [
       "<div>\n",
       "<style scoped>\n",
       "    .dataframe tbody tr th:only-of-type {\n",
       "        vertical-align: middle;\n",
       "    }\n",
       "\n",
       "    .dataframe tbody tr th {\n",
       "        vertical-align: top;\n",
       "    }\n",
       "\n",
       "    .dataframe thead th {\n",
       "        text-align: right;\n",
       "    }\n",
       "</style>\n",
       "<table border=\"1\" class=\"dataframe\">\n",
       "  <thead>\n",
       "    <tr style=\"text-align: right;\">\n",
       "      <th></th>\n",
       "      <th>first_dep_time</th>\n",
       "      <th>crs_arr_time</th>\n",
       "      <th>is_delayed</th>\n",
       "      <th>mkt_carrier_fl_num</th>\n",
       "      <th>dep_time</th>\n",
       "      <th>air_time</th>\n",
       "      <th>arr_delay</th>\n",
       "      <th>early_avgDryDays</th>\n",
       "      <th>early_avgSnowDays</th>\n",
       "      <th>avg_passengers</th>\n",
       "      <th>...</th>\n",
       "      <th>wheels_off</th>\n",
       "      <th>weather_delay</th>\n",
       "      <th>percent_delay</th>\n",
       "      <th>diverted</th>\n",
       "      <th>security_delay</th>\n",
       "      <th>avgThunderDays</th>\n",
       "      <th>dep_delay</th>\n",
       "      <th>delay_count</th>\n",
       "      <th>late_aircraft_delay</th>\n",
       "      <th>taxi_out</th>\n",
       "    </tr>\n",
       "  </thead>\n",
       "  <tbody>\n",
       "    <tr>\n",
       "      <th>864377</th>\n",
       "      <td>1352.896714</td>\n",
       "      <td>1530</td>\n",
       "      <td>0</td>\n",
       "      <td>2997</td>\n",
       "      <td>1404.0</td>\n",
       "      <td>114.0</td>\n",
       "      <td>-19.0</td>\n",
       "      <td>19</td>\n",
       "      <td>2</td>\n",
       "      <td>1090.0</td>\n",
       "      <td>...</td>\n",
       "      <td>1413.0</td>\n",
       "      <td>4.085318</td>\n",
       "      <td>0.003063</td>\n",
       "      <td>0.0</td>\n",
       "      <td>0.030039</td>\n",
       "      <td>1</td>\n",
       "      <td>-1.0</td>\n",
       "      <td>28.5</td>\n",
       "      <td>27.809101</td>\n",
       "      <td>9.0</td>\n",
       "    </tr>\n",
       "    <tr>\n",
       "      <th>554769</th>\n",
       "      <td>1352.896714</td>\n",
       "      <td>1511</td>\n",
       "      <td>0</td>\n",
       "      <td>3536</td>\n",
       "      <td>1118.0</td>\n",
       "      <td>125.0</td>\n",
       "      <td>-13.0</td>\n",
       "      <td>18</td>\n",
       "      <td>1</td>\n",
       "      <td>293.0</td>\n",
       "      <td>...</td>\n",
       "      <td>1128.0</td>\n",
       "      <td>4.085318</td>\n",
       "      <td>0.000986</td>\n",
       "      <td>0.0</td>\n",
       "      <td>0.030039</td>\n",
       "      <td>6</td>\n",
       "      <td>-7.0</td>\n",
       "      <td>26.5</td>\n",
       "      <td>27.809101</td>\n",
       "      <td>10.0</td>\n",
       "    </tr>\n",
       "    <tr>\n",
       "      <th>956373</th>\n",
       "      <td>1352.896714</td>\n",
       "      <td>848</td>\n",
       "      <td>1</td>\n",
       "      <td>5815</td>\n",
       "      <td>1046.0</td>\n",
       "      <td>72.0</td>\n",
       "      <td>255.0</td>\n",
       "      <td>20</td>\n",
       "      <td>3</td>\n",
       "      <td>30.5</td>\n",
       "      <td>...</td>\n",
       "      <td>1101.0</td>\n",
       "      <td>221.000000</td>\n",
       "      <td>0.000073</td>\n",
       "      <td>0.0</td>\n",
       "      <td>0.000000</td>\n",
       "      <td>0</td>\n",
       "      <td>221.0</td>\n",
       "      <td>31.8</td>\n",
       "      <td>0.000000</td>\n",
       "      <td>15.0</td>\n",
       "    </tr>\n",
       "    <tr>\n",
       "      <th>335821</th>\n",
       "      <td>1352.896714</td>\n",
       "      <td>2301</td>\n",
       "      <td>1</td>\n",
       "      <td>2098</td>\n",
       "      <td>2125.0</td>\n",
       "      <td>80.0</td>\n",
       "      <td>9.0</td>\n",
       "      <td>17</td>\n",
       "      <td>0</td>\n",
       "      <td>940.5</td>\n",
       "      <td>...</td>\n",
       "      <td>2143.0</td>\n",
       "      <td>4.085318</td>\n",
       "      <td>0.004916</td>\n",
       "      <td>0.0</td>\n",
       "      <td>0.030039</td>\n",
       "      <td>4</td>\n",
       "      <td>7.0</td>\n",
       "      <td>35.4</td>\n",
       "      <td>27.809101</td>\n",
       "      <td>18.0</td>\n",
       "    </tr>\n",
       "    <tr>\n",
       "      <th>430891</th>\n",
       "      <td>1352.896714</td>\n",
       "      <td>600</td>\n",
       "      <td>0</td>\n",
       "      <td>1114</td>\n",
       "      <td>2213.0</td>\n",
       "      <td>236.0</td>\n",
       "      <td>-34.0</td>\n",
       "      <td>21</td>\n",
       "      <td>4</td>\n",
       "      <td>929.0</td>\n",
       "      <td>...</td>\n",
       "      <td>2225.0</td>\n",
       "      <td>4.085318</td>\n",
       "      <td>0.002454</td>\n",
       "      <td>0.0</td>\n",
       "      <td>0.030039</td>\n",
       "      <td>1</td>\n",
       "      <td>-2.0</td>\n",
       "      <td>26.1</td>\n",
       "      <td>27.809101</td>\n",
       "      <td>12.0</td>\n",
       "    </tr>\n",
       "  </tbody>\n",
       "</table>\n",
       "<p>5 rows × 56 columns</p>\n",
       "</div>"
      ],
      "text/plain": [
       "        first_dep_time  crs_arr_time  is_delayed  mkt_carrier_fl_num  \\\n",
       "864377     1352.896714          1530           0                2997   \n",
       "554769     1352.896714          1511           0                3536   \n",
       "956373     1352.896714           848           1                5815   \n",
       "335821     1352.896714          2301           1                2098   \n",
       "430891     1352.896714           600           0                1114   \n",
       "\n",
       "        dep_time  air_time  arr_delay  early_avgDryDays  early_avgSnowDays  \\\n",
       "864377    1404.0     114.0      -19.0                19                  2   \n",
       "554769    1118.0     125.0      -13.0                18                  1   \n",
       "956373    1046.0      72.0      255.0                20                  3   \n",
       "335821    2125.0      80.0        9.0                17                  0   \n",
       "430891    2213.0     236.0      -34.0                21                  4   \n",
       "\n",
       "        avg_passengers  ...  wheels_off  weather_delay  percent_delay  \\\n",
       "864377          1090.0  ...      1413.0       4.085318       0.003063   \n",
       "554769           293.0  ...      1128.0       4.085318       0.000986   \n",
       "956373            30.5  ...      1101.0     221.000000       0.000073   \n",
       "335821           940.5  ...      2143.0       4.085318       0.004916   \n",
       "430891           929.0  ...      2225.0       4.085318       0.002454   \n",
       "\n",
       "        diverted  security_delay  avgThunderDays  dep_delay  delay_count  \\\n",
       "864377       0.0        0.030039               1       -1.0         28.5   \n",
       "554769       0.0        0.030039               6       -7.0         26.5   \n",
       "956373       0.0        0.000000               0      221.0         31.8   \n",
       "335821       0.0        0.030039               4        7.0         35.4   \n",
       "430891       0.0        0.030039               1       -2.0         26.1   \n",
       "\n",
       "        late_aircraft_delay  taxi_out  \n",
       "864377            27.809101       9.0  \n",
       "554769            27.809101      10.0  \n",
       "956373             0.000000      15.0  \n",
       "335821            27.809101      18.0  \n",
       "430891            27.809101      12.0  \n",
       "\n",
       "[5 rows x 56 columns]"
      ]
     },
     "execution_count": 88,
     "metadata": {},
     "output_type": "execute_result"
    }
   ],
   "source": [
    "pruned_data.head()"
   ]
  },
  {
   "cell_type": "markdown",
   "metadata": {},
   "source": [
    "### Drop all delay columns"
   ]
  },
  {
   "cell_type": "code",
   "execution_count": 89,
   "metadata": {},
   "outputs": [
    {
     "data": {
      "text/plain": [
       "(30000, 40)"
      ]
     },
     "execution_count": 89,
     "metadata": {},
     "output_type": "execute_result"
    }
   ],
   "source": [
    "pruned_data = pruned_data.drop(columns=['first_dep_time', 'dep_time', 'air_time', 'is_delayed', 'actual_elapsed_time', 'taxi_in', 'carrier_delay', 'arr_time','nas_delay', 'wheels_on', 'wheels_off','weather_delay', 'security_delay', 'dep_delay','late_aircraft_delay', 'taxi_out'])\n",
    "pruned_data.shape"
   ]
  },
  {
   "cell_type": "code",
   "execution_count": 90,
   "metadata": {},
   "outputs": [
    {
     "data": {
      "text/plain": [
       "(30000, 39)"
      ]
     },
     "execution_count": 90,
     "metadata": {},
     "output_type": "execute_result"
    }
   ],
   "source": [
    "X = pruned_data.drop(columns=['arr_delay'])\n",
    "X.shape"
   ]
  },
  {
   "cell_type": "code",
   "execution_count": 113,
   "metadata": {},
   "outputs": [
    {
     "data": {
      "text/html": [
       "<div>\n",
       "<style scoped>\n",
       "    .dataframe tbody tr th:only-of-type {\n",
       "        vertical-align: middle;\n",
       "    }\n",
       "\n",
       "    .dataframe tbody tr th {\n",
       "        vertical-align: top;\n",
       "    }\n",
       "\n",
       "    .dataframe thead th {\n",
       "        text-align: right;\n",
       "    }\n",
       "</style>\n",
       "<table border=\"1\" class=\"dataframe\">\n",
       "  <thead>\n",
       "    <tr style=\"text-align: right;\">\n",
       "      <th></th>\n",
       "      <th>crs_arr_time</th>\n",
       "      <th>mkt_carrier_fl_num</th>\n",
       "      <th>arr_delay</th>\n",
       "      <th>early_avgDryDays</th>\n",
       "      <th>early_avgSnowDays</th>\n",
       "      <th>avg_passengers</th>\n",
       "      <th>distance</th>\n",
       "      <th>total_passengers</th>\n",
       "      <th>flight_speed</th>\n",
       "      <th>delay_avgRainDays</th>\n",
       "      <th>...</th>\n",
       "      <th>total_add_gtime</th>\n",
       "      <th>origin_airport_id</th>\n",
       "      <th>avgDryDays</th>\n",
       "      <th>dest_airport_id</th>\n",
       "      <th>avg_fuel</th>\n",
       "      <th>early_avgCloud</th>\n",
       "      <th>percent_delay</th>\n",
       "      <th>diverted</th>\n",
       "      <th>avgThunderDays</th>\n",
       "      <th>delay_count</th>\n",
       "    </tr>\n",
       "  </thead>\n",
       "  <tbody>\n",
       "    <tr>\n",
       "      <th>count</th>\n",
       "      <td>30000.000000</td>\n",
       "      <td>30000.000000</td>\n",
       "      <td>30000.000000</td>\n",
       "      <td>30000.000000</td>\n",
       "      <td>30000.000000</td>\n",
       "      <td>30000.000000</td>\n",
       "      <td>30000.000000</td>\n",
       "      <td>30000.000000</td>\n",
       "      <td>30000.000000</td>\n",
       "      <td>30000.000000</td>\n",
       "      <td>...</td>\n",
       "      <td>30000.000000</td>\n",
       "      <td>30000.00000</td>\n",
       "      <td>30000.000000</td>\n",
       "      <td>30000.000000</td>\n",
       "      <td>3.000000e+04</td>\n",
       "      <td>30000.000000</td>\n",
       "      <td>30000.000000</td>\n",
       "      <td>30000.000000</td>\n",
       "      <td>30000.000000</td>\n",
       "      <td>30000.000000</td>\n",
       "    </tr>\n",
       "    <tr>\n",
       "      <th>mean</th>\n",
       "      <td>1487.787033</td>\n",
       "      <td>2628.447100</td>\n",
       "      <td>5.510859</td>\n",
       "      <td>18.717933</td>\n",
       "      <td>1.179300</td>\n",
       "      <td>485.289767</td>\n",
       "      <td>791.318667</td>\n",
       "      <td>489.238633</td>\n",
       "      <td>298.208217</td>\n",
       "      <td>8.555200</td>\n",
       "      <td>...</td>\n",
       "      <td>39.887324</td>\n",
       "      <td>12686.32950</td>\n",
       "      <td>16.935233</td>\n",
       "      <td>12685.993467</td>\n",
       "      <td>1.384333e+08</td>\n",
       "      <td>3.051267</td>\n",
       "      <td>0.001590</td>\n",
       "      <td>0.002467</td>\n",
       "      <td>2.196933</td>\n",
       "      <td>28.825570</td>\n",
       "    </tr>\n",
       "    <tr>\n",
       "      <th>std</th>\n",
       "      <td>517.751711</td>\n",
       "      <td>1825.750138</td>\n",
       "      <td>51.143783</td>\n",
       "      <td>1.595992</td>\n",
       "      <td>1.501786</td>\n",
       "      <td>366.787790</td>\n",
       "      <td>592.760160</td>\n",
       "      <td>372.630243</td>\n",
       "      <td>94.695521</td>\n",
       "      <td>1.445184</td>\n",
       "      <td>...</td>\n",
       "      <td>3.162906</td>\n",
       "      <td>1522.04873</td>\n",
       "      <td>6.571875</td>\n",
       "      <td>1526.177045</td>\n",
       "      <td>1.294994e+08</td>\n",
       "      <td>0.862204</td>\n",
       "      <td>0.001389</td>\n",
       "      <td>0.049605</td>\n",
       "      <td>3.106167</td>\n",
       "      <td>3.650017</td>\n",
       "    </tr>\n",
       "    <tr>\n",
       "      <th>min</th>\n",
       "      <td>1.000000</td>\n",
       "      <td>1.000000</td>\n",
       "      <td>-62.000000</td>\n",
       "      <td>17.000000</td>\n",
       "      <td>0.000000</td>\n",
       "      <td>1.000000</td>\n",
       "      <td>31.000000</td>\n",
       "      <td>1.000000</td>\n",
       "      <td>0.000000</td>\n",
       "      <td>6.000000</td>\n",
       "      <td>...</td>\n",
       "      <td>1.000000</td>\n",
       "      <td>10135.00000</td>\n",
       "      <td>0.000000</td>\n",
       "      <td>10135.000000</td>\n",
       "      <td>0.000000e+00</td>\n",
       "      <td>2.000000</td>\n",
       "      <td>0.000003</td>\n",
       "      <td>0.000000</td>\n",
       "      <td>0.000000</td>\n",
       "      <td>22.100000</td>\n",
       "    </tr>\n",
       "    <tr>\n",
       "      <th>25%</th>\n",
       "      <td>1104.000000</td>\n",
       "      <td>1083.000000</td>\n",
       "      <td>-15.000000</td>\n",
       "      <td>17.000000</td>\n",
       "      <td>0.000000</td>\n",
       "      <td>168.000000</td>\n",
       "      <td>362.000000</td>\n",
       "      <td>184.000000</td>\n",
       "      <td>240.000000</td>\n",
       "      <td>7.000000</td>\n",
       "      <td>...</td>\n",
       "      <td>39.887324</td>\n",
       "      <td>11292.00000</td>\n",
       "      <td>12.000000</td>\n",
       "      <td>11292.000000</td>\n",
       "      <td>8.790766e+06</td>\n",
       "      <td>2.000000</td>\n",
       "      <td>0.000458</td>\n",
       "      <td>0.000000</td>\n",
       "      <td>0.000000</td>\n",
       "      <td>26.500000</td>\n",
       "    </tr>\n",
       "    <tr>\n",
       "      <th>50%</th>\n",
       "      <td>1515.000000</td>\n",
       "      <td>2223.000000</td>\n",
       "      <td>-6.000000</td>\n",
       "      <td>18.000000</td>\n",
       "      <td>0.000000</td>\n",
       "      <td>485.500000</td>\n",
       "      <td>629.000000</td>\n",
       "      <td>469.000000</td>\n",
       "      <td>309.000000</td>\n",
       "      <td>9.000000</td>\n",
       "      <td>...</td>\n",
       "      <td>39.887324</td>\n",
       "      <td>12889.00000</td>\n",
       "      <td>17.000000</td>\n",
       "      <td>12889.000000</td>\n",
       "      <td>1.769710e+08</td>\n",
       "      <td>3.000000</td>\n",
       "      <td>0.001259</td>\n",
       "      <td>0.000000</td>\n",
       "      <td>1.000000</td>\n",
       "      <td>28.500000</td>\n",
       "    </tr>\n",
       "    <tr>\n",
       "      <th>75%</th>\n",
       "      <td>1920.000000</td>\n",
       "      <td>4009.250000</td>\n",
       "      <td>7.000000</td>\n",
       "      <td>20.000000</td>\n",
       "      <td>2.000000</td>\n",
       "      <td>675.500000</td>\n",
       "      <td>1020.000000</td>\n",
       "      <td>675.000000</td>\n",
       "      <td>365.947063</td>\n",
       "      <td>10.000000</td>\n",
       "      <td>...</td>\n",
       "      <td>39.887324</td>\n",
       "      <td>14057.00000</td>\n",
       "      <td>21.000000</td>\n",
       "      <td>14057.000000</td>\n",
       "      <td>2.978481e+08</td>\n",
       "      <td>4.000000</td>\n",
       "      <td>0.002277</td>\n",
       "      <td>0.000000</td>\n",
       "      <td>3.000000</td>\n",
       "      <td>31.800000</td>\n",
       "    </tr>\n",
       "    <tr>\n",
       "      <th>max</th>\n",
       "      <td>2359.000000</td>\n",
       "      <td>9392.000000</td>\n",
       "      <td>1495.000000</td>\n",
       "      <td>21.000000</td>\n",
       "      <td>4.000000</td>\n",
       "      <td>1445.000000</td>\n",
       "      <td>5095.000000</td>\n",
       "      <td>1680.000000</td>\n",
       "      <td>543.000000</td>\n",
       "      <td>11.000000</td>\n",
       "      <td>...</td>\n",
       "      <td>221.000000</td>\n",
       "      <td>16218.00000</td>\n",
       "      <td>30.000000</td>\n",
       "      <td>16218.000000</td>\n",
       "      <td>3.038917e+08</td>\n",
       "      <td>4.000000</td>\n",
       "      <td>0.006384</td>\n",
       "      <td>1.000000</td>\n",
       "      <td>23.000000</td>\n",
       "      <td>35.400000</td>\n",
       "    </tr>\n",
       "  </tbody>\n",
       "</table>\n",
       "<p>8 rows × 40 columns</p>\n",
       "</div>"
      ],
      "text/plain": [
       "       crs_arr_time  mkt_carrier_fl_num     arr_delay  early_avgDryDays  \\\n",
       "count  30000.000000        30000.000000  30000.000000      30000.000000   \n",
       "mean    1487.787033         2628.447100      5.510859         18.717933   \n",
       "std      517.751711         1825.750138     51.143783          1.595992   \n",
       "min        1.000000            1.000000    -62.000000         17.000000   \n",
       "25%     1104.000000         1083.000000    -15.000000         17.000000   \n",
       "50%     1515.000000         2223.000000     -6.000000         18.000000   \n",
       "75%     1920.000000         4009.250000      7.000000         20.000000   \n",
       "max     2359.000000         9392.000000   1495.000000         21.000000   \n",
       "\n",
       "       early_avgSnowDays  avg_passengers      distance  total_passengers  \\\n",
       "count       30000.000000    30000.000000  30000.000000      30000.000000   \n",
       "mean            1.179300      485.289767    791.318667        489.238633   \n",
       "std             1.501786      366.787790    592.760160        372.630243   \n",
       "min             0.000000        1.000000     31.000000          1.000000   \n",
       "25%             0.000000      168.000000    362.000000        184.000000   \n",
       "50%             0.000000      485.500000    629.000000        469.000000   \n",
       "75%             2.000000      675.500000   1020.000000        675.000000   \n",
       "max             4.000000     1445.000000   5095.000000       1680.000000   \n",
       "\n",
       "       flight_speed  delay_avgRainDays  ...  total_add_gtime  \\\n",
       "count  30000.000000       30000.000000  ...     30000.000000   \n",
       "mean     298.208217           8.555200  ...        39.887324   \n",
       "std       94.695521           1.445184  ...         3.162906   \n",
       "min        0.000000           6.000000  ...         1.000000   \n",
       "25%      240.000000           7.000000  ...        39.887324   \n",
       "50%      309.000000           9.000000  ...        39.887324   \n",
       "75%      365.947063          10.000000  ...        39.887324   \n",
       "max      543.000000          11.000000  ...       221.000000   \n",
       "\n",
       "       origin_airport_id    avgDryDays  dest_airport_id      avg_fuel  \\\n",
       "count        30000.00000  30000.000000     30000.000000  3.000000e+04   \n",
       "mean         12686.32950     16.935233     12685.993467  1.384333e+08   \n",
       "std           1522.04873      6.571875      1526.177045  1.294994e+08   \n",
       "min          10135.00000      0.000000     10135.000000  0.000000e+00   \n",
       "25%          11292.00000     12.000000     11292.000000  8.790766e+06   \n",
       "50%          12889.00000     17.000000     12889.000000  1.769710e+08   \n",
       "75%          14057.00000     21.000000     14057.000000  2.978481e+08   \n",
       "max          16218.00000     30.000000     16218.000000  3.038917e+08   \n",
       "\n",
       "       early_avgCloud  percent_delay      diverted  avgThunderDays  \\\n",
       "count    30000.000000   30000.000000  30000.000000    30000.000000   \n",
       "mean         3.051267       0.001590      0.002467        2.196933   \n",
       "std          0.862204       0.001389      0.049605        3.106167   \n",
       "min          2.000000       0.000003      0.000000        0.000000   \n",
       "25%          2.000000       0.000458      0.000000        0.000000   \n",
       "50%          3.000000       0.001259      0.000000        1.000000   \n",
       "75%          4.000000       0.002277      0.000000        3.000000   \n",
       "max          4.000000       0.006384      1.000000       23.000000   \n",
       "\n",
       "        delay_count  \n",
       "count  30000.000000  \n",
       "mean      28.825570  \n",
       "std        3.650017  \n",
       "min       22.100000  \n",
       "25%       26.500000  \n",
       "50%       28.500000  \n",
       "75%       31.800000  \n",
       "max       35.400000  \n",
       "\n",
       "[8 rows x 40 columns]"
      ]
     },
     "execution_count": 113,
     "metadata": {},
     "output_type": "execute_result"
    }
   ],
   "source": [
    "pruned_data.describe()"
   ]
  },
  {
   "cell_type": "code",
   "execution_count": 91,
   "metadata": {},
   "outputs": [],
   "source": [
    "y = pruned_data['arr_delay']"
   ]
  },
  {
   "cell_type": "code",
   "execution_count": 92,
   "metadata": {},
   "outputs": [
    {
     "data": {
      "text/plain": [
       "(30000,)"
      ]
     },
     "execution_count": 92,
     "metadata": {},
     "output_type": "execute_result"
    }
   ],
   "source": [
    "y.shape"
   ]
  },
  {
   "cell_type": "markdown",
   "metadata": {},
   "source": [
    "## Convert to Arrays"
   ]
  },
  {
   "cell_type": "code",
   "execution_count": 93,
   "metadata": {},
   "outputs": [],
   "source": [
    "X = X.to_numpy()"
   ]
  },
  {
   "cell_type": "code",
   "execution_count": 110,
   "metadata": {},
   "outputs": [
    {
     "ename": "AttributeError",
     "evalue": "'numpy.ndarray' object has no attribute 'to_numpy'",
     "output_type": "error",
     "traceback": [
      "\u001b[0;31m---------------------------------------------------------------------------\u001b[0m",
      "\u001b[0;31mAttributeError\u001b[0m                            Traceback (most recent call last)",
      "\u001b[0;32m<ipython-input-110-cafd43bf9ec4>\u001b[0m in \u001b[0;36m<module>\u001b[0;34m\u001b[0m\n\u001b[0;32m----> 1\u001b[0;31m \u001b[0my\u001b[0m \u001b[0;34m=\u001b[0m \u001b[0my\u001b[0m\u001b[0;34m.\u001b[0m\u001b[0mto_numpy\u001b[0m\u001b[0;34m(\u001b[0m\u001b[0;34m)\u001b[0m\u001b[0;34m\u001b[0m\u001b[0;34m\u001b[0m\u001b[0m\n\u001b[0m",
      "\u001b[0;31mAttributeError\u001b[0m: 'numpy.ndarray' object has no attribute 'to_numpy'"
     ]
    }
   ],
   "source": [
    "y = y.to_numpy()"
   ]
  },
  {
   "cell_type": "code",
   "execution_count": 111,
   "metadata": {},
   "outputs": [
    {
     "name": "stdout",
     "output_type": "stream",
     "text": [
      "The mean of all the target values is:  5.510858851918567\n"
     ]
    }
   ],
   "source": [
    "print(\"The mean of all the target values is: \",y.mean())"
   ]
  },
  {
   "cell_type": "markdown",
   "metadata": {},
   "source": [
    "### Split the data"
   ]
  },
  {
   "cell_type": "code",
   "execution_count": 95,
   "metadata": {},
   "outputs": [],
   "source": [
    "# Split dataset into training set and test set\n",
    "X_train, X_test, y_train, y_test = train_test_split(\n",
    "    X, y, test_size=0.25,random_state=109) # 75% training and 30% test"
   ]
  },
  {
   "cell_type": "markdown",
   "metadata": {},
   "source": [
    "### Scale the data"
   ]
  },
  {
   "cell_type": "code",
   "execution_count": 96,
   "metadata": {},
   "outputs": [],
   "source": [
    "scaler = StandardScaler()\n",
    "scaler.fit(X_train)\n",
    "X_train = scaler.transform(X_train)\n",
    "X_test = scaler.transform(X_test)"
   ]
  },
  {
   "cell_type": "code",
   "execution_count": null,
   "metadata": {},
   "outputs": [],
   "source": []
  },
  {
   "cell_type": "code",
   "execution_count": 101,
   "metadata": {},
   "outputs": [],
   "source": [
    "from sklearn.metrics import r2_score\n",
    "from sklearn import metrics\n",
    "from sklearn.model_selection import GridSearchCV\n",
    "from sklearn.metrics import roc_curve\n",
    "from sklearn.metrics import auc\n",
    "from sklearn.svm import SVC\n",
    "\n",
    "def runGridSearch(model, param_grid, X_train, y_train, X_test, y_test):\n",
    "    grid = GridSearchCV(estimator=model, \n",
    "        param_grid=param_grid, \n",
    "        scoring='r2', \n",
    "        verbose=1, \n",
    "        n_jobs=-1) \n",
    "    \n",
    "    best_model = grid.fit(X_train, y_train)\n",
    "\n",
    "\n",
    "    y_pred = best_model.predict(X_test)\n",
    "    \n",
    "    print(\"MSE: \", metrics.mean_squared_error(y_test, y_pred))\n",
    "    print(\"MAE: \", metrics.mean_absolute_error(y_test, y_pred))\n",
    "    print(\"Variance Score: \", metrics.explained_variance_score(y_test, y_pred))\n",
    "    print(\"R2: \", metrics.r2_score(y_test, y_pred))\n",
    "    \n",
    "    "
   ]
  },
  {
   "cell_type": "markdown",
   "metadata": {},
   "source": [
    "## Cross Validate a Base Model"
   ]
  },
  {
   "cell_type": "code",
   "execution_count": 108,
   "metadata": {},
   "outputs": [],
   "source": [
    "# RandomForestRegressor\n",
    "param_grid_rf = {\n",
    "    'n_estimators': [5,10, 100, 500,1000],\n",
    "    'max_depth': [5,10,100]\n",
    "}\n",
    "\n",
    "# DecisionTree\n",
    "param_grid_dt = {    \n",
    "    'max_depth': [5,10,100]\n",
    "}\n",
    "\n",
    "param_grid_xgb = {\n",
    "    'objective':['reg:squarederror'], \n",
    "    'colsample_bytree':[0.3], \n",
    "    'learning_rate':[0.1],\n",
    "    'max_depth':[5,10,100], \n",
    "    'alpha':[1,0.1,0.01], \n",
    "    'n_estimators':[5,10,100,500]\n",
    "    \n",
    "}"
   ]
  },
  {
   "cell_type": "code",
   "execution_count": 99,
   "metadata": {},
   "outputs": [
    {
     "name": "stdout",
     "output_type": "stream",
     "text": [
      "Fitting 5 folds for each of 3 candidates, totalling 15 fits\n"
     ]
    },
    {
     "name": "stderr",
     "output_type": "stream",
     "text": [
      "[Parallel(n_jobs=-1)]: Using backend LokyBackend with 8 concurrent workers.\n",
      "[Parallel(n_jobs=-1)]: Done  15 out of  15 | elapsed:    3.7s finished\n"
     ]
    },
    {
     "name": "stdout",
     "output_type": "stream",
     "text": [
      "MSE:  2431.1544557747807\n",
      "MAE:  24.274185669232267\n",
      "Variance Score:  -0.0674057471492211\n",
      "R2:  -0.06742932268625479\n"
     ]
    }
   ],
   "source": [
    "# Decision Tree\n",
    "runGridSearch(DecisionTreeRegressor(), param_grid_dt, X_train, y_train, X_test, y_test)"
   ]
  },
  {
   "cell_type": "code",
   "execution_count": 100,
   "metadata": {},
   "outputs": [
    {
     "name": "stdout",
     "output_type": "stream",
     "text": [
      "Fitting 5 folds for each of 15 candidates, totalling 75 fits\n"
     ]
    },
    {
     "name": "stderr",
     "output_type": "stream",
     "text": [
      "[Parallel(n_jobs=-1)]: Using backend LokyBackend with 8 concurrent workers.\n",
      "[Parallel(n_jobs=-1)]: Done  34 tasks      | elapsed:  2.3min\n",
      "[Parallel(n_jobs=-1)]: Done  75 out of  75 | elapsed: 20.5min finished\n"
     ]
    },
    {
     "name": "stdout",
     "output_type": "stream",
     "text": [
      "MSE:  2081.120721437787\n",
      "MAE:  23.865794264853385\n",
      "Variance Score:  0.08625910173551765\n",
      "R2:  0.08625744578424288\n"
     ]
    }
   ],
   "source": [
    "# Random Forest\n",
    "runGridSearch(RandomForestRegressor(), param_grid_rf, X_train, y_train, X_test, y_test)"
   ]
  },
  {
   "cell_type": "code",
   "execution_count": 114,
   "metadata": {},
   "outputs": [
    {
     "name": "stdout",
     "output_type": "stream",
     "text": [
      "Fitting 5 folds for each of 36 candidates, totalling 180 fits\n"
     ]
    },
    {
     "name": "stderr",
     "output_type": "stream",
     "text": [
      "[Parallel(n_jobs=-1)]: Using backend LokyBackend with 8 concurrent workers.\n",
      "[Parallel(n_jobs=-1)]: Done  34 tasks      | elapsed:   31.7s\n",
      "[Parallel(n_jobs=-1)]: Done 180 out of 180 | elapsed: 11.3min finished\n"
     ]
    },
    {
     "name": "stdout",
     "output_type": "stream",
     "text": [
      "MSE:  2160.4561706060585\n",
      "MAE:  23.43066506047705\n",
      "Variance Score:  0.05293231801297904\n",
      "R2:  0.051424206551110796\n"
     ]
    }
   ],
   "source": [
    "# XGBoost\n",
    "runGridSearch(xgb.XGBRegressor(), param_grid_xgb, X_train, y_train, X_test, y_test)"
   ]
  },
  {
   "cell_type": "markdown",
   "metadata": {},
   "source": [
    "| Model | MSE | MAE | Variance | R2 | \n",
    "| --- | --- | --- | --- | --- |\n",
    "| Random Forest | 2081.120721437787 | 23.865794264853385 | 0.08625910173551765 |  0.08625744578424288 |\n",
    "| Decision Tree | 2317.290228192625 | 23.379388770971 | 0.07616203926823162 | 0.07615860147119247 |"
   ]
  },
  {
   "cell_type": "code",
   "execution_count": null,
   "metadata": {},
   "outputs": [],
   "source": []
  },
  {
   "cell_type": "code",
   "execution_count": null,
   "metadata": {},
   "outputs": [],
   "source": []
  },
  {
   "cell_type": "code",
   "execution_count": null,
   "metadata": {},
   "outputs": [],
   "source": []
  },
  {
   "cell_type": "code",
   "execution_count": null,
   "metadata": {},
   "outputs": [],
   "source": []
  },
  {
   "cell_type": "code",
   "execution_count": null,
   "metadata": {},
   "outputs": [],
   "source": []
  },
  {
   "cell_type": "code",
   "execution_count": null,
   "metadata": {},
   "outputs": [],
   "source": [
    "## Fit the "
   ]
  },
  {
   "cell_type": "code",
   "execution_count": 23,
   "metadata": {},
   "outputs": [
    {
     "data": {
      "text/plain": [
       "DecisionTreeClassifier()"
      ]
     },
     "execution_count": 23,
     "metadata": {},
     "output_type": "execute_result"
    }
   ],
   "source": [
    "model.fit(X_train,y_train)"
   ]
  },
  {
   "cell_type": "code",
   "execution_count": 25,
   "metadata": {},
   "outputs": [],
   "source": [
    "y_pred = model.predict(X_test)"
   ]
  },
  {
   "cell_type": "code",
   "execution_count": 35,
   "metadata": {},
   "outputs": [
    {
     "name": "stdout",
     "output_type": "stream",
     "text": [
      "[0 1]\n",
      "F1_Score: 0.9999759849185289\n",
      "R2:  0.9999266292287783\n",
      "Precision:  0.9999639778103312\n",
      "Recall:  0.9999879923150816\n",
      "Roc Auc:  0.9999844936457102\n"
     ]
    }
   ],
   "source": [
    "f1_score = metrics.f1_score(y_test, y_pred)\n",
    "#roc_auc = metrics.auc(y_test, y_pred)\n",
    "#print(\"F1_Score for {0}: {1}\".format(cutoff, f1_score))\n",
    "#print(\"Roc Auc Score for {0}: {1}\".format(cutoff, roc_auc))\n",
    "print( np.unique( y_pred ) )\n",
    "f1_score = metrics.f1_score(y_test, y_pred)\n",
    "print(\"F1_Score: {0}\".format(f1_score))\n",
    "print(\"R2: \", metrics.r2_score(y_test, y_pred))\n",
    "print(\"Precision: \", metrics.precision_score(y_test, y_pred))\n",
    "print(\"Recall: \", metrics.recall_score(y_test, y_pred))\n",
    "print(\"Roc Auc: \", metrics.roc_auc_score(y_test, y_pred))"
   ]
  },
  {
   "cell_type": "code",
   "execution_count": null,
   "metadata": {},
   "outputs": [],
   "source": []
  }
 ],
 "metadata": {
  "kernelspec": {
   "display_name": "Python 3",
   "language": "python",
   "name": "python3"
  },
  "language_info": {
   "codemirror_mode": {
    "name": "ipython",
    "version": 3
   },
   "file_extension": ".py",
   "mimetype": "text/x-python",
   "name": "python",
   "nbconvert_exporter": "python",
   "pygments_lexer": "ipython3",
   "version": "3.8.5"
  }
 },
 "nbformat": 4,
 "nbformat_minor": 4
}
