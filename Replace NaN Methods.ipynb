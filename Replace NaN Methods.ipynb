{
 "cells": [
  {
   "cell_type": "markdown",
   "metadata": {},
   "source": [
    "# Methods to remove NaNs\n",
    "Call these methods to remove/replace NaNs AFTER all new features are created"
   ]
  },
  {
   "cell_type": "code",
   "execution_count": 1,
   "metadata": {},
   "outputs": [],
   "source": [
    "import pickle\n",
    "\n",
    "filename = 'flight_2019'\n",
    "\n",
    "infile = open(filename,'rb')\n",
    "flight_2019 = pickle.load(infile)\n",
    "infile.close()"
   ]
  },
  {
   "cell_type": "markdown",
   "metadata": {},
   "source": [
    "#### New dataframe with a smaller sample of 500,000 records"
   ]
  },
  {
   "cell_type": "code",
   "execution_count": 2,
   "metadata": {},
   "outputs": [],
   "source": [
    "flight_sample = flight_2019.sample(n=1000000, random_state=1)"
   ]
  },
  {
   "cell_type": "code",
   "execution_count": 3,
   "metadata": {},
   "outputs": [
    {
     "data": {
      "text/plain": [
       "(1000000, 38)"
      ]
     },
     "execution_count": 3,
     "metadata": {},
     "output_type": "execute_result"
    }
   ],
   "source": [
    "flight_sample.shape"
   ]
  },
  {
   "cell_type": "code",
   "execution_count": 4,
   "metadata": {},
   "outputs": [
    {
     "data": {
      "text/plain": [
       "mkt_unique_carrier      0.0000\n",
       "branded_code_share      0.0000\n",
       "mkt_carrier_fl_num      0.0000\n",
       "op_unique_carrier       0.0000\n",
       "tail_num                0.3525\n",
       "op_carrier_fl_num       0.0000\n",
       "origin_airport_id       0.0000\n",
       "dest_airport_id         0.0000\n",
       "crs_dep_time            0.0000\n",
       "dep_time                1.8297\n",
       "dep_delay               1.8300\n",
       "taxi_out                1.8870\n",
       "wheels_off              1.8870\n",
       "wheels_on               1.9423\n",
       "taxi_in                 1.9423\n",
       "crs_arr_time            0.0000\n",
       "arr_time                1.9423\n",
       "arr_delay               2.1530\n",
       "cancelled               0.0000\n",
       "cancellation_code      98.0975\n",
       "diverted                0.0000\n",
       "dup                     0.0000\n",
       "crs_elapsed_time        0.0000\n",
       "actual_elapsed_time     2.1530\n",
       "air_time                2.1530\n",
       "flights                 0.0000\n",
       "distance                0.0000\n",
       "carrier_delay          81.1232\n",
       "weather_delay          81.1232\n",
       "nas_delay              81.1232\n",
       "security_delay         81.1232\n",
       "late_aircraft_delay    81.1232\n",
       "first_dep_time         99.2994\n",
       "total_add_gtime        99.2994\n",
       "longest_add_gtime      99.2994\n",
       "fl_date                 0.0000\n",
       "year                    0.0000\n",
       "month                   0.0000\n",
       "dtype: float64"
      ]
     },
     "execution_count": 4,
     "metadata": {},
     "output_type": "execute_result"
    }
   ],
   "source": [
    "flight_sample.isnull().mean() * 100"
   ]
  },
  {
   "cell_type": "markdown",
   "metadata": {},
   "source": [
    "## Fill in the tail_num NaNs"
   ]
  },
  {
   "cell_type": "code",
   "execution_count": 17,
   "metadata": {},
   "outputs": [],
   "source": [
    "def tailNumNaN(flights_df):\n",
    "    flights_df_cp = flights_df.copy()\n",
    "    \n",
    "    return flight_sample['tail_num'].fillna('0000')"
   ]
  },
  {
   "cell_type": "code",
   "execution_count": 10,
   "metadata": {},
   "outputs": [
    {
     "data": {
      "text/html": [
       "<div>\n",
       "<style scoped>\n",
       "    .dataframe tbody tr th:only-of-type {\n",
       "        vertical-align: middle;\n",
       "    }\n",
       "\n",
       "    .dataframe tbody tr th {\n",
       "        vertical-align: top;\n",
       "    }\n",
       "\n",
       "    .dataframe thead th {\n",
       "        text-align: right;\n",
       "    }\n",
       "</style>\n",
       "<table border=\"1\" class=\"dataframe\">\n",
       "  <thead>\n",
       "    <tr style=\"text-align: right;\">\n",
       "      <th></th>\n",
       "      <th>tail_num</th>\n",
       "      <th>cancelled</th>\n",
       "    </tr>\n",
       "  </thead>\n",
       "  <tbody>\n",
       "  </tbody>\n",
       "</table>\n",
       "</div>"
      ],
      "text/plain": [
       "Empty DataFrame\n",
       "Columns: [tail_num, cancelled]\n",
       "Index: []"
      ]
     },
     "execution_count": 10,
     "metadata": {},
     "output_type": "execute_result"
    }
   ],
   "source": [
    "flight_sample['tail_num'].describe()\n",
    "flight_sample[flight_sample['tail_num'].isna()][['tail_num','cancelled']]\n",
    "flight_sample[flight_sample['tail_num'] == '0000'][['tail_num','cancelled']]"
   ]
  },
  {
   "cell_type": "code",
   "execution_count": 14,
   "metadata": {},
   "outputs": [],
   "source": [
    "# Set tail_num to 0000 for cancelled flights\n",
    "flight_sample['tail_num'] = flight_sample['tail_num'].fillna('0000')"
   ]
  },
  {
   "cell_type": "code",
   "execution_count": 16,
   "metadata": {},
   "outputs": [
    {
     "data": {
      "text/html": [
       "<div>\n",
       "<style scoped>\n",
       "    .dataframe tbody tr th:only-of-type {\n",
       "        vertical-align: middle;\n",
       "    }\n",
       "\n",
       "    .dataframe tbody tr th {\n",
       "        vertical-align: top;\n",
       "    }\n",
       "\n",
       "    .dataframe thead th {\n",
       "        text-align: right;\n",
       "    }\n",
       "</style>\n",
       "<table border=\"1\" class=\"dataframe\">\n",
       "  <thead>\n",
       "    <tr style=\"text-align: right;\">\n",
       "      <th></th>\n",
       "      <th>tail_num</th>\n",
       "      <th>cancelled</th>\n",
       "    </tr>\n",
       "  </thead>\n",
       "  <tbody>\n",
       "  </tbody>\n",
       "</table>\n",
       "</div>"
      ],
      "text/plain": [
       "Empty DataFrame\n",
       "Columns: [tail_num, cancelled]\n",
       "Index: []"
      ]
     },
     "execution_count": 16,
     "metadata": {},
     "output_type": "execute_result"
    }
   ],
   "source": [
    "flight_sample[flight_sample['tail_num'] == '0000'][['tail_num','cancelled']]"
   ]
  },
  {
   "cell_type": "markdown",
   "metadata": {},
   "source": [
    "* mkt_unique_carrier      0.0000\n",
    "* branded_code_share      0.0000\n",
    "* mkt_carrier_fl_num      0.0000\n",
    "* op_unique_carrier       0.0000\n",
    "* tail_num                0.3525\n",
    "* op_carrier_fl_num       0.0000\n",
    "* origin_airport_id       0.0000\n",
    "* dest_airport_id         0.0000\n",
    "* crs_dep_time            0.0000\n",
    "dep_time                1.8297\n",
    "dep_delay               1.8300\n",
    "taxi_out                1.8870\n",
    "wheels_off              1.8870\n",
    "wheels_on               1.9423\n",
    "taxi_in                 1.9423\n",
    "* crs_arr_time            0.0000\n",
    "arr_time                1.9423\n",
    "arr_delay               2.1530\n",
    "cancelled               0.0000\n",
    "cancellation_code      98.0975\n",
    "diverted                0.0000\n",
    "* dup                     0.0000\n",
    "* crs_elapsed_time        0.0000\n",
    "actual_elapsed_time     2.1530\n",
    "air_time                2.1530\n",
    "* flights                 0.0000\n",
    "* distance                0.0000\n",
    "carrier_delay          81.1232\n",
    "weather_delay          81.1232\n",
    "nas_delay              81.1232\n",
    "security_delay         81.1232\n",
    "late_aircraft_delay    81.1232\n",
    "first_dep_time         99.2994\n",
    "total_add_gtime        99.2994\n",
    "longest_add_gtime      99.2994\n",
    "* fl_date                 0.0000\n"
   ]
  },
  {
   "cell_type": "markdown",
   "metadata": {},
   "source": [
    "DROP dep_time                1.8297\n",
    "DROP dep_delay               1.8300\n",
    "DROP taxi_out                1.8870\n",
    "DROP wheels_off              1.8870\n",
    "DROP wheels_on               1.9423\n",
    "DROP taxi_in                 1.9423\n",
    "DROP arr_time                1.9423\n",
    "DROP arr_delay               2.1530\n",
    "DROP cancelled               0.0000\n",
    "DROP cancellation_code      98.0975\n",
    "DROP diverted                0.0000\n",
    "DROP actual_elapsed_time     2.1530\n",
    "DROP air_time                2.1530\n",
    "DROP carrier_delay          81.1232\n",
    "DROP weather_delay          81.1232\n",
    "DROP nas_delay              81.1232\n",
    "DROP security_delay         81.1232\n",
    "DROP late_aircraft_delay    81.1232\n",
    "DROP first_dep_time         99.2994\n",
    "DROP total_add_gtime        99.2994\n",
    "DROP longest_add_gtime      99.2994\n"
   ]
  }
 ],
 "metadata": {
  "kernelspec": {
   "display_name": "Python 3",
   "language": "python",
   "name": "python3"
  },
  "language_info": {
   "codemirror_mode": {
    "name": "ipython",
    "version": 3
   },
   "file_extension": ".py",
   "mimetype": "text/x-python",
   "name": "python",
   "nbconvert_exporter": "python",
   "pygments_lexer": "ipython3",
   "version": "3.8.5"
  }
 },
 "nbformat": 4,
 "nbformat_minor": 4
}
