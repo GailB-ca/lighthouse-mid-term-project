{
 "cells": [
  {
   "cell_type": "code",
   "execution_count": 5,
   "metadata": {},
   "outputs": [],
   "source": [
    "import pickle\n",
    "from datetime import datetime\n",
    "import pandas as pd\n",
    "import numpy as np"
   ]
  },
  {
   "cell_type": "markdown",
   "metadata": {},
   "source": [
    "## 1. Import the XGB Model"
   ]
  },
  {
   "cell_type": "code",
   "execution_count": 14,
   "metadata": {},
   "outputs": [],
   "source": [
    "\n",
    "filename = 'xgb_best_model'\n",
    "\n",
    "infile = open(filename,'rb')\n",
    "xgb_best_model = pickle.load(infile)\n",
    "infile.close()"
   ]
  },
  {
   "cell_type": "code",
   "execution_count": 15,
   "metadata": {},
   "outputs": [
    {
     "data": {
      "text/plain": [
       "sklearn.model_selection._search.GridSearchCV"
      ]
     },
     "execution_count": 15,
     "metadata": {},
     "output_type": "execute_result"
    }
   ],
   "source": [
    "type(xgb_best_model)"
   ]
  },
  {
   "cell_type": "markdown",
   "metadata": {},
   "source": [
    "## 2. Import the Test Data with Features"
   ]
  },
  {
   "cell_type": "code",
   "execution_count": 11,
   "metadata": {},
   "outputs": [
    {
     "data": {
      "text/plain": [
       "Index(['fl_date', 'mkt_unique_carrier', 'branded_code_share', 'mkt_carrier',\n",
       "       'mkt_carrier_fl_num', 'op_unique_carrier', 'tail_num',\n",
       "       'op_carrier_fl_num', 'origin_airport_id', 'origin', 'origin_city_name',\n",
       "       'dest_airport_id', 'dest', 'dest_city_name', 'crs_dep_time',\n",
       "       'crs_arr_time', 'dup', 'crs_elapsed_time', 'flights', 'distance',\n",
       "       'flight_speed', 'flight_haul_type', 'flight_month',\n",
       "       'arrival_hour_of_day', 'departure_hour_of_day', 'percent_delay',\n",
       "       'percent_flights', 'avg_flights', 'avg_passengers', 'total_distance',\n",
       "       'total_passengers', 'avg_fuel', 'state', 'avgCloud', 'avgDryDays',\n",
       "       'avgRainDays', 'avgSnowDays', 'avgThunderDays'],\n",
       "      dtype='object')"
      ]
     },
     "execution_count": 11,
     "metadata": {},
     "output_type": "execute_result"
    }
   ],
   "source": [
    "flight_sample = pd.read_csv('flights_test_2020.zip', compression='zip')\n",
    "flight_sample.columns"
   ]
  },
  {
   "cell_type": "markdown",
   "metadata": {},
   "source": [
    "## 3. Remove un-needed features\n",
    "\n",
    "'crs_dep_time',  \n",
    " 'crs_arr_time',  \n",
    " 'crs_elapsed_time',  \n",
    " 'flights',  \n",
    " 'distance',  \n",
    " 'flight_speed',  \n",
    " 'flight_haul_type',  \n",
    " 'flight_month',  \n",
    " 'arrival_hour_of_day',  \n",
    " 'departure_hour_of_day',  \n",
    " 'percent_delay',  \n",
    " 'percent_flights',  \n",
    " 'avg_flights',  \n",
    " 'avg_passengers',   \n",
    " 'total_distance',  \n",
    " 'total_passengers',  \n",
    " 'avg_fuel',  \n",
    " 'avgCloud',  \n",
    " 'avgDryDays',  \n",
    " 'avgRainDays',  \n",
    " 'avgSnowDays',  \n",
    " 'avgThunderDays']  \n",
    " "
   ]
  },
  {
   "cell_type": "code",
   "execution_count": 12,
   "metadata": {},
   "outputs": [
    {
     "data": {
      "text/plain": [
       "Index(['crs_dep_time', 'crs_arr_time', 'crs_elapsed_time', 'flights',\n",
       "       'distance', 'flight_speed', 'flight_haul_type', 'flight_month',\n",
       "       'arrival_hour_of_day', 'departure_hour_of_day', 'percent_delay',\n",
       "       'percent_flights', 'avg_flights', 'avg_passengers', 'total_distance',\n",
       "       'total_passengers', 'avg_fuel', 'avgCloud', 'avgDryDays', 'avgRainDays',\n",
       "       'avgSnowDays', 'avgThunderDays'],\n",
       "      dtype='object')"
      ]
     },
     "execution_count": 12,
     "metadata": {},
     "output_type": "execute_result"
    }
   ],
   "source": [
    "pruned_data = flight_sample.drop(columns=[\n",
    "    'mkt_carrier', 'mkt_unique_carrier',\n",
    "    'op_carrier_fl_num', 'origin', 'origin_city_name',\n",
    "    'dest', 'dest_city_name','state',\n",
    "    'branded_code_share','mkt_carrier_fl_num','op_unique_carrier','tail_num',\n",
    "    'origin_airport_id','dest_airport_id',\n",
    "    'dup','fl_date'])\n",
    "pruned_data.columns"
   ]
  },
  {
   "cell_type": "code",
   "execution_count": 19,
   "metadata": {},
   "outputs": [
    {
     "data": {
      "text/plain": [
       "(144711, 22)"
      ]
     },
     "execution_count": 19,
     "metadata": {},
     "output_type": "execute_result"
    }
   ],
   "source": [
    "X = pruned_data\n",
    "X.shape"
   ]
  },
  {
   "cell_type": "code",
   "execution_count": 20,
   "metadata": {},
   "outputs": [],
   "source": [
    "def convert_pred_y(y_pred):\n",
    "    return np.exp(y_pred,) - 63"
   ]
  },
  {
   "cell_type": "markdown",
   "metadata": {},
   "source": [
    "## Convert to Arrays"
   ]
  },
  {
   "cell_type": "code",
   "execution_count": 21,
   "metadata": {},
   "outputs": [],
   "source": [
    "X = X.to_numpy()"
   ]
  },
  {
   "cell_type": "markdown",
   "metadata": {},
   "source": [
    "## 4. Run the model on the test data"
   ]
  },
  {
   "cell_type": "code",
   "execution_count": 22,
   "metadata": {},
   "outputs": [],
   "source": [
    "y_pred = xgb_best_model.best_estimator_.predict(X)"
   ]
  },
  {
   "cell_type": "markdown",
   "metadata": {},
   "source": [
    "## 5. Transform the prediction back from the log"
   ]
  },
  {
   "cell_type": "code",
   "execution_count": 23,
   "metadata": {},
   "outputs": [],
   "source": [
    "y_final = convert_pred_y(y_pred)"
   ]
  },
  {
   "cell_type": "code",
   "execution_count": 28,
   "metadata": {},
   "outputs": [
    {
     "data": {
      "text/plain": [
       "-9.142537"
      ]
     },
     "execution_count": 28,
     "metadata": {},
     "output_type": "execute_result"
    }
   ],
   "source": [
    "y_final.mean()"
   ]
  },
  {
   "cell_type": "code",
   "execution_count": 34,
   "metadata": {},
   "outputs": [],
   "source": [
    "flight_orig = flight_sample.copy()\n",
    "flight_orig = flight_orig[['fl_date','mkt_carrier',\n",
    "                          'mkt_carrier_fl_num','origin','dest']]"
   ]
  },
  {
   "cell_type": "code",
   "execution_count": 36,
   "metadata": {},
   "outputs": [],
   "source": [
    "flight_orig['predicted_delay'] = y_final"
   ]
  },
  {
   "cell_type": "code",
   "execution_count": 37,
   "metadata": {},
   "outputs": [
    {
     "data": {
      "text/html": [
       "<div>\n",
       "<style scoped>\n",
       "    .dataframe tbody tr th:only-of-type {\n",
       "        vertical-align: middle;\n",
       "    }\n",
       "\n",
       "    .dataframe tbody tr th {\n",
       "        vertical-align: top;\n",
       "    }\n",
       "\n",
       "    .dataframe thead th {\n",
       "        text-align: right;\n",
       "    }\n",
       "</style>\n",
       "<table border=\"1\" class=\"dataframe\">\n",
       "  <thead>\n",
       "    <tr style=\"text-align: right;\">\n",
       "      <th></th>\n",
       "      <th>fl_date</th>\n",
       "      <th>mkt_carrier</th>\n",
       "      <th>mkt_carrier_fl_num</th>\n",
       "      <th>origin</th>\n",
       "      <th>dest</th>\n",
       "      <th>predicted_delay</th>\n",
       "    </tr>\n",
       "  </thead>\n",
       "  <tbody>\n",
       "    <tr>\n",
       "      <th>0</th>\n",
       "      <td>2020-01-01</td>\n",
       "      <td>WN</td>\n",
       "      <td>5888</td>\n",
       "      <td>ONT</td>\n",
       "      <td>SFO</td>\n",
       "      <td>-10.331104</td>\n",
       "    </tr>\n",
       "    <tr>\n",
       "      <th>1</th>\n",
       "      <td>2020-01-01</td>\n",
       "      <td>WN</td>\n",
       "      <td>5722</td>\n",
       "      <td>ONT</td>\n",
       "      <td>SMF</td>\n",
       "      <td>-10.331104</td>\n",
       "    </tr>\n",
       "    <tr>\n",
       "      <th>2</th>\n",
       "      <td>2020-01-01</td>\n",
       "      <td>WN</td>\n",
       "      <td>1499</td>\n",
       "      <td>ONT</td>\n",
       "      <td>PHX</td>\n",
       "      <td>-10.331104</td>\n",
       "    </tr>\n",
       "    <tr>\n",
       "      <th>3</th>\n",
       "      <td>2020-01-02</td>\n",
       "      <td>WN</td>\n",
       "      <td>2966</td>\n",
       "      <td>ONT</td>\n",
       "      <td>DEN</td>\n",
       "      <td>-10.331104</td>\n",
       "    </tr>\n",
       "    <tr>\n",
       "      <th>4</th>\n",
       "      <td>2020-01-02</td>\n",
       "      <td>WN</td>\n",
       "      <td>2047</td>\n",
       "      <td>ONT</td>\n",
       "      <td>SJC</td>\n",
       "      <td>-10.331104</td>\n",
       "    </tr>\n",
       "  </tbody>\n",
       "</table>\n",
       "</div>"
      ],
      "text/plain": [
       "      fl_date mkt_carrier  mkt_carrier_fl_num origin dest  predicted_delay\n",
       "0  2020-01-01          WN                5888    ONT  SFO       -10.331104\n",
       "1  2020-01-01          WN                5722    ONT  SMF       -10.331104\n",
       "2  2020-01-01          WN                1499    ONT  PHX       -10.331104\n",
       "3  2020-01-02          WN                2966    ONT  DEN       -10.331104\n",
       "4  2020-01-02          WN                2047    ONT  SJC       -10.331104"
      ]
     },
     "execution_count": 37,
     "metadata": {},
     "output_type": "execute_result"
    }
   ],
   "source": [
    "flight_orig.head()"
   ]
  },
  {
   "cell_type": "code",
   "execution_count": 38,
   "metadata": {},
   "outputs": [],
   "source": [
    "flight_orig.to_csv('submission_xgb.csv')  "
   ]
  },
  {
   "cell_type": "code",
   "execution_count": null,
   "metadata": {},
   "outputs": [],
   "source": []
  }
 ],
 "metadata": {
  "kernelspec": {
   "display_name": "Python 3",
   "language": "python",
   "name": "python3"
  },
  "language_info": {
   "codemirror_mode": {
    "name": "ipython",
    "version": 3
   },
   "file_extension": ".py",
   "mimetype": "text/x-python",
   "name": "python",
   "nbconvert_exporter": "python",
   "pygments_lexer": "ipython3",
   "version": "3.8.5"
  }
 },
 "nbformat": 4,
 "nbformat_minor": 4
}
